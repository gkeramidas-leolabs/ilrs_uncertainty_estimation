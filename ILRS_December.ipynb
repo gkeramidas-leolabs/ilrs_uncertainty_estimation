{
 "cells": [
  {
   "cell_type": "code",
   "execution_count": 1,
   "id": "8063287a",
   "metadata": {},
   "outputs": [],
   "source": [
    "import ILRS_Uncertainty as unc\n",
    "import truth_request as tr\n",
    "import orekit\n",
    "import random\n",
    "from orekit.pyhelpers import  setup_orekit_curdir"
   ]
  },
  {
   "cell_type": "code",
   "execution_count": 2,
   "id": "177587bb",
   "metadata": {},
   "outputs": [],
   "source": [
    "from imp import reload"
   ]
  },
  {
   "cell_type": "code",
   "execution_count": 3,
   "id": "7e52bb3f",
   "metadata": {},
   "outputs": [],
   "source": [
    "import numpy as np"
   ]
  },
  {
   "cell_type": "code",
   "execution_count": 4,
   "id": "6b75a576",
   "metadata": {},
   "outputs": [],
   "source": [
    "orekit_vm = orekit.initVM()\n",
    "setup_orekit_curdir(\"/Users/gkeramidas/Projects/learning/leolabs-config-data-dynamic/\")"
   ]
  },
  {
   "cell_type": "code",
   "execution_count": 270,
   "id": "9c75e1aa",
   "metadata": {},
   "outputs": [],
   "source": [
    "end_epoch = [2021,11,30] # epoch from which we will go back certain number of days\n",
    "length_of_search = 30\n",
    "prov1 = \"hts\"\n",
    "prov2 = \"sgf\"\n",
    "\n",
    "end_year = end_epoch[0]\n",
    "end_month = end_epoch[1]\n",
    "end_day = end_epoch[2]"
   ]
  },
  {
   "cell_type": "code",
   "execution_count": 271,
   "id": "5de44af2",
   "metadata": {},
   "outputs": [],
   "source": [
    "leolabs_id = 'L5011'"
   ]
  },
  {
   "cell_type": "code",
   "execution_count": 272,
   "id": "d4a20d57",
   "metadata": {},
   "outputs": [],
   "source": [
    "base_year, base_month, base_day = unc.base_date([end_year, end_month, end_day], length_of_search) # base epoch from where our comparisons begin"
   ]
  },
  {
   "cell_type": "code",
   "execution_count": 273,
   "id": "99ba8051",
   "metadata": {},
   "outputs": [
    {
     "name": "stdout",
     "output_type": "stream",
     "text": [
      "2021 10 30\n"
     ]
    }
   ],
   "source": [
    "print(base_year,base_month,base_day)"
   ]
  },
  {
   "cell_type": "code",
   "execution_count": 275,
   "id": "00a31d45",
   "metadata": {},
   "outputs": [
    {
     "name": "stdout",
     "output_type": "stream",
     "text": [
      "info Syncing ILRS truth data from S3 (135 files downloaded)\n"
     ]
    }
   ],
   "source": [
    "directory = tr.set_up_truth_directory_for_target(leolabs_id)+\"/\"\n",
    "tr.dwld_data_for_target(leolabs_id, end_epoch, length_of_search)"
   ]
  },
  {
   "cell_type": "code",
   "execution_count": 276,
   "id": "0df31509",
   "metadata": {},
   "outputs": [],
   "source": [
    "ephemerides = unc.truth_ephems_from_directory(directory)"
   ]
  },
  {
   "cell_type": "code",
   "execution_count": 277,
   "id": "e048397c",
   "metadata": {},
   "outputs": [
    {
     "name": "stdout",
     "output_type": "stream",
     "text": [
      "stella_cpf_211107_8111.hts\n",
      "stella_cpf_211120_8241.hts\n",
      "stella_cpf_211128_8321.sgf\n",
      "stella_cpf_211119_8231.hts\n",
      "stella_cpf_211031_31601.dgf\n",
      "stella_cpf_211101_8051.sgf\n",
      "stella_cpf_211126_8301.sgf\n",
      "stella_cpf_211111_8162.dgf\n",
      "stella_cpf_211110_8162.dgf\n",
      "stella_cpf_211109_8131.hts\n",
      "stella_cpf_211117_8211.hts\n",
      "stella_cpf_211123_8271.dgf\n",
      "stella_cpf_211130_8341.hts\n",
      "stella_cpf_211114_8181.dgf\n",
      "stella_cpf_211027_8001.dgf\n",
      "stella_cpf_211110_8161.dgf\n",
      "stella_cpf_211111_8161.dgf\n",
      "stella_cpf_211111_8151.sgf\n",
      "stella_cpf_211028_8011.sgf\n",
      "stella_cpf_211029_8021.dgf\n",
      "stella_cpf_211110_8141.sgf\n",
      "stella_cpf_211115_8191.dgf\n",
      "stella_cpf_211106_31602.dgf\n",
      "stella_cpf_211122_8261.dgf\n",
      "stella_cpf_211106_8162.dgf\n",
      "stella_cpf_211107_8162.dgf\n",
      "stella_cpf_211116_8201.hts\n",
      "stella_cpf_211030_8031.sgf\n",
      "stella_cpf_211031_8161.dgf\n",
      "stella_cpf_211108_8121.hts\n",
      "stella_cpf_211118_8221.hts\n",
      "stella_cpf_211106_31601.dgf\n",
      "stella_cpf_211129_8331.sgf\n",
      "stella_cpf_211121_8251.hts\n",
      "stella_cpf_211106_8101.hts\n",
      "stella_cpf_211107_8161.dgf\n",
      "stella_cpf_211106_8161.dgf\n",
      "stella_cpf_211123_8271.hts\n",
      "stella_cpf_211101_31602.dgf\n",
      "stella_cpf_211130_8341.dgf\n",
      "stella_cpf_211114_8181.hts\n",
      "stella_cpf_211027_8001.hts\n",
      "stella_cpf_211102_8061.sgf\n",
      "stella_cpf_211101_8162.dgf\n",
      "stella_cpf_211120_8241.dgf\n",
      "stella_cpf_211101_31601.dgf\n",
      "stella_cpf_211119_8231.dgf\n",
      "stella_cpf_211104_8081.hts\n",
      "stella_cpf_211112_8161.sgf\n",
      "stella_cpf_211101_8161.dgf\n",
      "stella_cpf_211125_8291.sgf\n",
      "stella_cpf_211031_8041.sgf\n",
      "stella_cpf_211117_8211.dgf\n",
      "stella_cpf_211116_8201.dgf\n",
      "stella_cpf_211124_8281.sgf\n",
      "stella_cpf_211113_8171.sgf\n",
      "stella_cpf_211107_31602.dgf\n",
      "stella_cpf_211105_8091.hts\n",
      "stella_cpf_211118_8221.dgf\n",
      "stella_cpf_211121_8251.dgf\n",
      "stella_cpf_211103_8071.sgf\n",
      "stella_cpf_211107_31601.dgf\n",
      "stella_cpf_211116_8161.dgf\n",
      "stella_cpf_211115_8191.hts\n",
      "stella_cpf_211122_8261.hts\n",
      "stella_cpf_211110_8141.hts\n",
      "stella_cpf_211104_8161.dgf\n",
      "stella_cpf_211105_8161.dgf\n",
      "stella_cpf_211102_31602.dgf\n",
      "stella_cpf_211030_8031.hts\n",
      "stella_cpf_211124_8281.dgf\n",
      "stella_cpf_211116_8201.sgf\n",
      "stella_cpf_211127_8311.hts\n",
      "stella_cpf_211113_8171.dgf\n",
      "stella_cpf_211108_8121.sgf\n",
      "stella_cpf_211118_8221.sgf\n",
      "stella_cpf_211106_8101.sgf\n",
      "stella_cpf_211121_8251.sgf\n",
      "stella_cpf_211105_8162.dgf\n",
      "stella_cpf_211104_8162.dgf\n",
      "stella_cpf_211129_8331.hts\n",
      "stella_cpf_211102_31601.dgf\n",
      "stella_cpf_211128_8321.hts\n",
      "stella_cpf_211120_8241.sgf\n",
      "stella_cpf_211107_8111.sgf\n",
      "stella_cpf_211104_31602.dgf\n",
      "stella_cpf_211119_8231.sgf\n",
      "stella_cpf_211113_8161.dgf\n",
      "stella_cpf_211112_8161.dgf\n",
      "stella_cpf_211109_8131.sgf\n",
      "stella_cpf_211126_8301.hts\n",
      "stella_cpf_211101_8051.hts\n",
      "stella_cpf_211117_8211.sgf\n",
      "stella_cpf_211125_8291.dgf\n",
      "stella_cpf_211130_8341.sgf\n",
      "stella_cpf_211104_31601.dgf\n",
      "stella_cpf_211112_8162.dgf\n",
      "stella_cpf_211111_8151.hts\n",
      "stella_cpf_211028_8011.hts\n",
      "stella_cpf_211124_8281.hts\n",
      "stella_cpf_211030_8031.dgf\n",
      "stella_cpf_211127_8311.dgf\n",
      "stella_cpf_211113_8171.hts\n",
      "stella_cpf_211115_8161.dgf\n",
      "stella_cpf_211105_8091.sgf\n",
      "stella_cpf_211103_31602.dgf\n",
      "stella_cpf_211129_8331.dgf\n",
      "stella_cpf_211103_8071.hts\n",
      "stella_cpf_211115_8191.sgf\n",
      "stella_cpf_211103_31601.dgf\n",
      "stella_cpf_211122_8261.sgf\n",
      "stella_cpf_211108_31601.dgf\n",
      "stella_cpf_211105_31602.dgf\n",
      "stella_cpf_211123_8271.sgf\n",
      "stella_cpf_211114_8181.sgf\n",
      "stella_cpf_211027_8001.sgf\n",
      "stella_cpf_211102_8061.hts\n",
      "stella_cpf_211108_8162.dgf\n",
      "stella_cpf_211109_8162.dgf\n",
      "stella_cpf_211029_8021.sgf\n",
      "stella_cpf_211103_8161.dgf\n",
      "stella_cpf_211102_8161.dgf\n",
      "stella_cpf_211028_8011.dgf\n",
      "stella_cpf_211108_31602.dgf\n",
      "stella_cpf_211128_8321.dgf\n",
      "stella_cpf_211105_31601.dgf\n",
      "stella_cpf_211104_8081.sgf\n",
      "stella_cpf_211112_8161.hts\n",
      "stella_cpf_211126_8301.dgf\n",
      "stella_cpf_211109_8161.dgf\n",
      "stella_cpf_211108_8161.dgf\n",
      "stella_cpf_211102_8162.dgf\n",
      "stella_cpf_211103_8162.dgf\n",
      "stella_cpf_211125_8291.hts\n",
      "stella_cpf_211031_8041.hts\n"
     ]
    }
   ],
   "source": [
    "for ephem in ephemerides:\n",
    "    print(ephem.name)"
   ]
  },
  {
   "cell_type": "code",
   "execution_count": 281,
   "id": "765e3705",
   "metadata": {},
   "outputs": [
    {
     "data": {
      "text/plain": [
       "<module 'ILRS_Uncertainty' from '/Users/gkeramidas/Projects/learning/ILRS_Uncertainty.py'>"
      ]
     },
     "execution_count": 281,
     "metadata": {},
     "output_type": "execute_result"
    }
   ],
   "source": [
    "reload(unc)"
   ]
  },
  {
   "cell_type": "code",
   "execution_count": 279,
   "id": "a6bd519a",
   "metadata": {},
   "outputs": [
    {
     "name": "stdout",
     "output_type": "stream",
     "text": [
      "hts: stella_cpf_211030_8031.hts\n",
      "sgf: stella_cpf_211030_8031.sgf\n",
      "checked mean\n",
      "next month: 11\n",
      "next day: 1\n",
      "hts: stella_cpf_211101_8051.hts\n",
      "sgf: stella_cpf_211101_8051.sgf\n",
      "checked mean\n",
      "next month: 11\n",
      "next day: 2\n",
      "hts: stella_cpf_211102_8061.hts\n",
      "sgf: stella_cpf_211102_8061.sgf\n",
      "checked mean\n",
      "next month: 11\n",
      "next day: 3\n",
      "hts: stella_cpf_211103_8071.hts\n",
      "sgf: stella_cpf_211103_8071.sgf\n",
      "checked mean\n",
      "next month: 11\n",
      "next day: 4\n",
      "hts: stella_cpf_211104_8081.hts\n",
      "sgf: stella_cpf_211104_8081.sgf\n",
      "checked mean\n",
      "next month: 11\n",
      "next day: 5\n",
      "hts: stella_cpf_211105_8091.hts\n",
      "sgf: stella_cpf_211105_8091.sgf\n",
      "checked mean\n",
      "next month: 11\n",
      "next day: 6\n",
      "hts: stella_cpf_211106_8101.hts\n",
      "sgf: stella_cpf_211106_8101.sgf\n",
      "checked mean\n",
      "next month: 11\n",
      "next day: 7\n",
      "hts: stella_cpf_211107_8111.hts\n",
      "sgf: stella_cpf_211107_8111.sgf\n",
      "checked mean\n",
      "next month: 11\n",
      "next day: 8\n",
      "hts: stella_cpf_211108_8121.hts\n",
      "sgf: stella_cpf_211108_8121.sgf\n",
      "checked mean\n",
      "next month: 11\n",
      "next day: 9\n",
      "hts: stella_cpf_211109_8131.hts\n",
      "sgf: stella_cpf_211109_8131.sgf\n",
      "checked mean\n",
      "next month: 11\n",
      "next day: 10\n",
      "hts: stella_cpf_211110_8141.hts\n",
      "sgf: stella_cpf_211110_8141.sgf\n",
      "checked mean\n",
      "next month: 11\n",
      "next day: 11\n",
      "hts: stella_cpf_211111_8151.hts\n",
      "sgf: stella_cpf_211111_8151.sgf\n",
      "checked mean\n",
      "next month: 11\n",
      "next day: 12\n",
      "hts: stella_cpf_211112_8161.hts\n",
      "sgf: stella_cpf_211112_8161.sgf\n",
      "checked mean\n",
      "next month: 11\n",
      "next day: 13\n",
      "hts: stella_cpf_211113_8171.hts\n",
      "sgf: stella_cpf_211113_8171.sgf\n",
      "checked mean\n",
      "next month: 11\n",
      "next day: 14\n",
      "hts: stella_cpf_211114_8181.hts\n",
      "sgf: stella_cpf_211114_8181.sgf\n",
      "checked mean\n",
      "next month: 11\n",
      "next day: 15\n",
      "hts: stella_cpf_211115_8191.hts\n",
      "sgf: stella_cpf_211115_8191.sgf\n",
      "checked mean\n",
      "next month: 11\n",
      "next day: 16\n",
      "hts: stella_cpf_211116_8201.hts\n",
      "sgf: stella_cpf_211116_8201.sgf\n",
      "checked mean\n",
      "next month: 11\n",
      "next day: 17\n",
      "hts: stella_cpf_211117_8211.hts\n",
      "sgf: stella_cpf_211117_8211.sgf\n",
      "checked mean\n",
      "next month: 11\n",
      "next day: 18\n",
      "hts: stella_cpf_211118_8221.hts\n",
      "sgf: stella_cpf_211118_8221.sgf\n",
      "checked mean\n",
      "next month: 11\n",
      "next day: 19\n",
      "hts: stella_cpf_211119_8231.hts\n",
      "sgf: stella_cpf_211119_8231.sgf\n",
      "checked mean\n",
      "next month: 11\n",
      "next day: 20\n",
      "hts: stella_cpf_211120_8241.hts\n",
      "sgf: stella_cpf_211120_8241.sgf\n",
      "checked mean\n",
      "next month: 11\n",
      "next day: 21\n",
      "hts: stella_cpf_211121_8251.hts\n",
      "sgf: stella_cpf_211121_8251.sgf\n",
      "checked mean\n",
      "next month: 11\n",
      "next day: 22\n",
      "hts: stella_cpf_211122_8261.hts\n",
      "sgf: stella_cpf_211122_8261.sgf\n",
      "checked mean\n",
      "next month: 11\n",
      "next day: 23\n",
      "hts: stella_cpf_211123_8271.hts\n",
      "sgf: stella_cpf_211123_8271.sgf\n",
      "checked mean\n",
      "next month: 11\n",
      "next day: 24\n",
      "hts: stella_cpf_211124_8281.hts\n",
      "sgf: stella_cpf_211124_8281.sgf\n",
      "checked mean\n",
      "next month: 11\n",
      "next day: 25\n",
      "hts: stella_cpf_211125_8291.hts\n",
      "sgf: stella_cpf_211125_8291.sgf\n",
      "checked mean\n",
      "next month: 11\n",
      "next day: 26\n",
      "hts: stella_cpf_211126_8301.hts\n",
      "sgf: stella_cpf_211126_8301.sgf\n",
      "checked mean\n",
      "next month: 11\n",
      "next day: 27\n",
      "hts: stella_cpf_211127_8311.hts\n",
      "Missed Day\n",
      "hts: stella_cpf_211128_8321.hts\n",
      "sgf: stella_cpf_211128_8321.sgf\n",
      "checked mean\n",
      "next month: 11\n",
      "next day: 29\n",
      "hts: stella_cpf_211129_8331.hts\n",
      "sgf: stella_cpf_211129_8331.sgf\n",
      "checked mean\n",
      "next month: 11\n",
      "next day: 30\n"
     ]
    }
   ],
   "source": [
    "dX1, dX2, dY1, dY2, dZ1, dZ2 = unc.compare_eph(ephemerides, base_year, base_month, base_day, length_of_search, prov1, prov2)"
   ]
  },
  {
   "cell_type": "code",
   "execution_count": 285,
   "id": "65c2008b",
   "metadata": {},
   "outputs": [
    {
     "name": "stdout",
     "output_type": "stream",
     "text": [
      "dXhts= 5.171239353049357\n",
      "dXsgf= 5.124057889884761\n",
      "dYhts= 4.426972587634015\n",
      "dYsgf= 3.8028578810170837\n",
      "dZhts= 5.359365711037237\n",
      "dZsgf= 5.160603560494788\n"
     ]
    }
   ],
   "source": [
    "uncX1 = unc.final_uncertainty(dX1)\n",
    "print(\"dX\" + prov1 + \"=\",uncX1)\n",
    "uncX2 = unc.final_uncertainty(dX2)\n",
    "print(\"dX\" + prov2 + \"=\",uncX2)\n",
    "uncY1 = unc.final_uncertainty(dY1)\n",
    "print(\"dY\" + prov1 + \"=\",uncY1)\n",
    "uncY2 = unc.final_uncertainty(dY2)\n",
    "print(\"dY\" + prov2 + \"=\",uncY2)\n",
    "uncZ1 = unc.final_uncertainty(dZ1)\n",
    "print(\"dZ\" + prov1 + \"=\",uncZ1)\n",
    "uncZ2 = unc.final_uncertainty(dZ2)\n",
    "print(\"dZ\" + prov2 + \"=\",uncZ2) "
   ]
  },
  {
   "cell_type": "code",
   "execution_count": 208,
   "id": "b1380916",
   "metadata": {},
   "outputs": [
    {
     "data": {
      "text/plain": [
       "88"
      ]
     },
     "execution_count": 208,
     "metadata": {},
     "output_type": "execute_result"
    }
   ],
   "source": [
    "len(dX1)"
   ]
  },
  {
   "cell_type": "code",
   "execution_count": 257,
   "id": "5c7ce611",
   "metadata": {},
   "outputs": [
    {
     "name": "stderr",
     "output_type": "stream",
     "text": [
      "/var/folders/_2/q_y58n0d08305t24b4rr2_3m0000gn/T/ipykernel_70314/2277803365.py:6: RuntimeWarning: invalid value encountered in log\n",
      "  log_dZ2 = np.log(dZ2)\n"
     ]
    }
   ],
   "source": [
    "log_dX1 = np.log(dX1)\n",
    "log_dX2 = np.log(dX2)\n",
    "log_dY1 = np.log(dY1)\n",
    "log_dY2 = np.log(dY2)\n",
    "log_dZ1 = np.log(dZ1)\n",
    "log_dZ2 = np.log(dZ2)"
   ]
  },
  {
   "cell_type": "code",
   "execution_count": 159,
   "id": "cec7579e",
   "metadata": {},
   "outputs": [],
   "source": [
    "import matplotlib.pyplot as plt"
   ]
  },
  {
   "cell_type": "code",
   "execution_count": 269,
   "id": "cb1d80dd",
   "metadata": {},
   "outputs": [
    {
     "data": {
      "image/png": "[encoded data removed]",
      "text/plain": [
       "<Figure size 432x288 with 1 Axes>"
      ]
     },
     "metadata": {
      "needs_background": "light"
     },
     "output_type": "display_data"
    }
   ],
   "source": [
    "#plt.hist(log_dZ1)\n",
    "plt.hist(dZ1)\n",
    "plt.show()"
   ]
  },
  {
   "cell_type": "code",
   "execution_count": 282,
   "id": "9a804633",
   "metadata": {},
   "outputs": [],
   "source": [
    "ln_uncX1,sX1, cX1 = unc.log_normal_right_confidence_interval(dX1)\n",
    "ln_uncX2,sX2, cX2 = unc.log_normal_right_confidence_interval(dX2)\n",
    "ln_uncY1,sY1, cY1 = unc.log_normal_right_confidence_interval(dY1)\n",
    "ln_uncY2,sY2, cY2 = unc.log_normal_right_confidence_interval(dY2)\n",
    "ln_uncZ1,sZ1, cZ1 = unc.log_normal_right_confidence_interval(dZ1)\n",
    "ln_uncZ2,sZ2, cZ2 = unc.log_normal_right_confidence_interval(dZ2)"
   ]
  },
  {
   "cell_type": "code",
   "execution_count": 289,
   "id": "1e42a6a1",
   "metadata": {},
   "outputs": [
    {
     "data": {
      "text/plain": [
       "7.470083713757425"
      ]
     },
     "execution_count": 289,
     "metadata": {},
     "output_type": "execute_result"
    }
   ],
   "source": [
    "cZ2"
   ]
  },
  {
   "cell_type": "code",
   "execution_count": null,
   "id": "4cb5eb17",
   "metadata": {},
   "outputs": [],
   "source": []
  }
 ],
 "metadata": {
  "kernelspec": {
   "display_name": "Python 3 (ipykernel)",
   "language": "python",
   "name": "python3"
  },
  "language_info": {
   "codemirror_mode": {
    "name": "ipython",
    "version": 3
   },
   "file_extension": ".py",
   "mimetype": "text/x-python",
   "name": "python",
   "nbconvert_exporter": "python",
   "pygments_lexer": "ipython3",
   "version": "3.9.13"
  }
 },
 "nbformat": 4,
 "nbformat_minor": 5
}
