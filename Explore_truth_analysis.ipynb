{
 "cells": [
  {
   "cell_type": "code",
   "execution_count": 1,
   "id": "8ada8acb",
   "metadata": {},
   "outputs": [],
   "source": [
    "import json\n",
    "import os\n",
    "import requests\n",
    "import datetime"
   ]
  },
  {
   "cell_type": "code",
   "execution_count": 2,
   "id": "b87441dc",
   "metadata": {},
   "outputs": [],
   "source": [
    "from dateutil.parser import parse as date_parse"
   ]
  },
  {
   "cell_type": "code",
   "execution_count": 3,
   "id": "e02a0e58",
   "metadata": {},
   "outputs": [],
   "source": [
    "from imp import reload"
   ]
  },
  {
   "cell_type": "code",
   "execution_count": 4,
   "id": "04c16ab4",
   "metadata": {},
   "outputs": [],
   "source": [
    "import auth\n",
    "import truth_analysis as ta"
   ]
  },
  {
   "cell_type": "code",
   "execution_count": 158,
   "id": "f2d7f5c1",
   "metadata": {},
   "outputs": [
    {
     "data": {
      "text/plain": [
       "<module 'truth_analysis' from '/Users/gkeramidas/Projects/leo-backend-od/truth_analysis.py'>"
      ]
     },
     "execution_count": 158,
     "metadata": {},
     "output_type": "execute_result"
    }
   ],
   "source": [
    "reload(ta)"
   ]
  },
  {
   "cell_type": "markdown",
   "id": "5c02c1a1",
   "metadata": {},
   "source": [
    "## Initialize orekit and LL_od"
   ]
  },
  {
   "cell_type": "code",
   "execution_count": 11,
   "id": "96174871",
   "metadata": {},
   "outputs": [],
   "source": [
    "from od_init import initialize_leolabs_od"
   ]
  },
  {
   "cell_type": "code",
   "execution_count": 12,
   "id": "b1b4f616",
   "metadata": {},
   "outputs": [],
   "source": [
    "initialize_leolabs_od()"
   ]
  },
  {
   "cell_type": "code",
   "execution_count": 31,
   "id": "21bc30df",
   "metadata": {},
   "outputs": [],
   "source": [
    "import orekit"
   ]
  },
  {
   "cell_type": "code",
   "execution_count": 32,
   "id": "f23f845d",
   "metadata": {},
   "outputs": [],
   "source": [
    "orekit_vm = orekit.initVM()"
   ]
  },
  {
   "cell_type": "markdown",
   "id": "c0194c2e",
   "metadata": {},
   "source": [
    "## Functions to pull data from API and transform them into container classes for use in truth analysis"
   ]
  },
  {
   "cell_type": "code",
   "execution_count": 13,
   "id": "b39cc1e3",
   "metadata": {},
   "outputs": [],
   "source": [
    "def id_data(leo_id):\n",
    "    \"\"\"ID Data for a LeoLabs object to initialize the truth analysis object.\"\"\"\n",
    "    object_url = \"\".join([auth.api_url, '/catalog/objects/',leo_id])\n",
    "    object_response = requests.get(object_url,headers=auth.headers)\n",
    "    leolabs_id = object_response.json()[\"catalogNumber\"] \n",
    "    norad_id = object_response.json()[\"noradCatalogNumber\"]\n",
    "    name = object_response.json()[\"name\"]\n",
    "    \n",
    "    id_dict = {}\n",
    "    id_dict['leolabs_id'] = leolabs_id\n",
    "    id_dict['norad_id'] = norad_id\n",
    "    id_dict['object_name'] = name\n",
    "    return id_dict"
   ]
  },
  {
   "cell_type": "code",
   "execution_count": 14,
   "id": "d07f76b7",
   "metadata": {},
   "outputs": [],
   "source": [
    "id_data_L5011 = id_data('L5011')"
   ]
  },
  {
   "cell_type": "code",
   "execution_count": 15,
   "id": "afbd85ae",
   "metadata": {},
   "outputs": [],
   "source": [
    "def state_data(leo_id, start_date, end_date):\n",
    "    \"\"\"Pull all the states of a LeoLabs object between certain dates\"\"\"\n",
    "    start_time = datetime.datetime(start_date[0], start_date[1], start_date[2]).strftime(\"%Y-%m-%d\")\n",
    "    end_time = datetime.datetime(end_date[0], end_date[1], end_date[2]).strftime(\"%Y-%m-%d\")\n",
    "    \n",
    "    states_url = \"\".join([auth.api_url, '/catalog/objects/',leo_id,'/states?startTime=',start_time,'&endTime=',end_time])\n",
    "    \n",
    "    states_response = requests.get(states_url,headers=auth.headers)\n",
    "    \n",
    "    first_state_id = states_response.json()[\"states\"][0][\"id\"]\n",
    "    \n",
    "    return states_response "
   ]
  },
  {
   "cell_type": "code",
   "execution_count": 16,
   "id": "bd172517",
   "metadata": {},
   "outputs": [],
   "source": [
    "def RIC_covariance_of_propagations(leo_id, state_id, start_date, end_date, timestep):\n",
    "    \"\"\"Pull the RIC covariances out of the propagations \"\"\" \n",
    "    start_time = datetime.datetime(start_date[0], start_date[1], start_date[2]).strftime(\"%Y-%m-%d\")\n",
    "    end_time = datetime.datetime(end_date[0], end_date[1], end_date[2]).strftime(\"%Y-%m-%d\")\n",
    "    \n",
    "    prop_with_ric_url = \"\".join([auth.api_url, '/catalog/objects/',leo_id,'/states/',ST0_ID,'/propagations?startTime=',start_time,'&endTime=',end_time,'&timestep=',str(timestep),'&frame=RIC'])\n",
    "    \n",
    "    prop_with_ric_response = requests.get(prop_with_ric_url, headers=auth.headers)\n",
    "    \n",
    "    return prop_with_ric_response.json()[\"propagation\"]"
   ]
  },
  {
   "cell_type": "code",
   "execution_count": 17,
   "id": "86c10f99",
   "metadata": {},
   "outputs": [],
   "source": [
    "def propagation_of_state(leo_id, state_id, start_date, end_date, timestep):\n",
    "    \"\"\"Request state propagations between a start date and an end date and with certain timestep.\"\"\"\n",
    "    start_time = datetime.datetime(start_date[0], start_date[1], start_date[2]).strftime(\"%Y-%m-%d\")\n",
    "    end_time = datetime.datetime(end_date[0], end_date[1], end_date[2]).strftime(\"%Y-%m-%d\")\n",
    "    \n",
    "    propagation_url = \"\".join([auth.api_url, '/catalog/objects/',leo_id,'/states/',ST0_ID,'/propagations?startTime=',start_time,'&endTime=',end_time,'&timestep=',str(timestep)])\n",
    "    \n",
    "    propagation_response = requests.get(propagation_url, headers=auth.headers)\n",
    "    \n",
    "    return propagation_response.json()[\"propagation\"]"
   ]
  },
  {
   "cell_type": "code",
   "execution_count": 18,
   "id": "869ac98d",
   "metadata": {},
   "outputs": [],
   "source": [
    "class PropagationsContainer():\n",
    "    \"\"\"Convenience container for propagations\"\"\"\n",
    "    \n",
    "    def __init__(self,timestamp,position,velocity,covariance):\n",
    "        self.timestamp = timestamp\n",
    "        self.position = position\n",
    "        self.velocity = velocity\n",
    "        self.covariance = covariance"
   ]
  },
  {
   "cell_type": "code",
   "execution_count": 76,
   "id": "256aa187",
   "metadata": {},
   "outputs": [],
   "source": [
    "class RicCovariancesContainer():\n",
    "    \"\"\"Convenience container for RIC covariances\"\"\"\n",
    "    \n",
    "    def __init__(self,covariance):\n",
    "        self.covariance = covariance"
   ]
  },
  {
   "cell_type": "code",
   "execution_count": 84,
   "id": "da98995b",
   "metadata": {},
   "outputs": [],
   "source": [
    "def Ric_propagation_dict_to_container(ric_prop_dict):\n",
    "    \"\"\"Takes a single RIC propagation json dictionary and returns a RicCovariancesContainer object.\"\"\"\n",
    "    \n",
    "    covariance = ric_prop_dict['covariance']\n",
    "    \n",
    "    return RicCovariancesContainer(covariance)"
   ]
  },
  {
   "cell_type": "code",
   "execution_count": 19,
   "id": "379eec21",
   "metadata": {},
   "outputs": [],
   "source": [
    "def propagation_dict_to_container(prop_dict):\n",
    "    \"\"\"Takes a single propagation list and returns a PropagationsContainer object.\"\"\"\n",
    "    \n",
    "    timestamp = date_parse(prop_dict['timestamp'],ignoretz=True )\n",
    "    position = prop_dict['position']\n",
    "    velocity = prop_dict['velocity']\n",
    "    covariance = prop_dict['covariance']\n",
    "    \n",
    "    return PropagationsContainer(timestamp,position,velocity,covariance)"
   ]
  },
  {
   "cell_type": "code",
   "execution_count": 20,
   "id": "3ac58011",
   "metadata": {},
   "outputs": [],
   "source": [
    "def propagations_list(propagations_dict):\n",
    "    \"\"\"Takes a propagations dict and returns a list with PropagationContainer objects.\"\"\"\n",
    "    \n",
    "    prop_list = []\n",
    "    for i in range(len(propagations_dict)):\n",
    "        prop_list.append(propagation_dict_to_container(propagations_dict[i]))\n",
    "    \n",
    "    return prop_list"
   ]
  },
  {
   "cell_type": "code",
   "execution_count": 91,
   "id": "bed9264a",
   "metadata": {},
   "outputs": [],
   "source": [
    "def RIC_Covariances_list(ric_dict):\n",
    "    \"\"\"Takes a RIC propagations dict and returns a list of RicCovariancesContainer object.\"\"\"\n",
    "    \n",
    "    ric_list = []\n",
    "    for i in range(len(ric_dict)):\n",
    "        ric_list.append(Ric_propagation_dict_to_container(ric_dict[i]).covariance)\n",
    "        \n",
    "    return ric_list"
   ]
  },
  {
   "cell_type": "code",
   "execution_count": 92,
   "id": "75844f9f",
   "metadata": {},
   "outputs": [],
   "source": [
    "SD = state_data('L5011',[2022,2,3],[2022,2,5])"
   ]
  },
  {
   "cell_type": "code",
   "execution_count": 93,
   "id": "3a7c8832",
   "metadata": {},
   "outputs": [],
   "source": [
    "ST0_ID = str(SD.json()[\"states\"][0][\"id\"])"
   ]
  },
  {
   "cell_type": "code",
   "execution_count": 143,
   "id": "34d8e469",
   "metadata": {},
   "outputs": [],
   "source": [
    "propagation_test = propagation_of_state('L5011',ST0_ID,[2022,2,3],[2022,2,8],1000)"
   ]
  },
  {
   "cell_type": "code",
   "execution_count": 144,
   "id": "e297de5b",
   "metadata": {},
   "outputs": [],
   "source": [
    "propagations_test_list = propagations_list(propagation_test)"
   ]
  },
  {
   "cell_type": "code",
   "execution_count": 145,
   "id": "efe0d77a",
   "metadata": {},
   "outputs": [],
   "source": [
    "ric_covariance_L5011 = RIC_covariance_of_propagations('L5011',ST0_ID,[2022,2,3],[2022,2,8],1000)"
   ]
  },
  {
   "cell_type": "code",
   "execution_count": 146,
   "id": "d8c78126",
   "metadata": {},
   "outputs": [],
   "source": [
    "ric_covariances_test_list = RIC_Covariances_list(ric_covariance_L5011)"
   ]
  },
  {
   "cell_type": "code",
   "execution_count": 159,
   "id": "6813a885",
   "metadata": {},
   "outputs": [],
   "source": [
    "L5011_TO = ta.TruthAnalysis(id_data_L5011,propagations_test_list,ric_covariances_test_list)"
   ]
  },
  {
   "cell_type": "markdown",
   "id": "633e9ba6",
   "metadata": {},
   "source": [
    "## Bring here the orekit DataProviderManager"
   ]
  },
  {
   "cell_type": "code",
   "execution_count": 157,
   "id": "7231f154",
   "metadata": {},
   "outputs": [],
   "source": [
    "import sys"
   ]
  },
  {
   "cell_type": "code",
   "execution_count": 53,
   "id": "fc4fc24c",
   "metadata": {},
   "outputs": [],
   "source": [
    "def use_config_directory(config_directory):\n",
    "    from java.io import File\n",
    "\n",
    "    from org.orekit.data import DirectoryCrawler\n",
    "    from org.orekit.data import DataProvidersManager\n",
    "\n",
    "    #data_manager = DataProvidersManager.getInstance()\n",
    "    data_manager = DataProvidersManager()\n",
    "    data_crawler = DirectoryCrawler(File(config_directory))\n",
    "\n",
    "    data_manager.clearProviders()\n",
    "    data_manager.addProvider(data_crawler)\n",
    "\n",
    "    # Orekit custom class for NRLMSISE00 parameters needs this for now\n",
    "    os.environ['LL_DYN_CONFIG_DIR'] = config_directory"
   ]
  },
  {
   "cell_type": "code",
   "execution_count": 54,
   "id": "9c586eee",
   "metadata": {},
   "outputs": [
    {
     "data": {
      "text/plain": [
       "'/Users/gkeramidas/Projects/learning/'"
      ]
     },
     "execution_count": 54,
     "metadata": {},
     "output_type": "execute_result"
    }
   ],
   "source": [
    "os.environ['LL_DYN_CONFIG_LOCATION']"
   ]
  },
  {
   "cell_type": "code",
   "execution_count": 55,
   "id": "2cb0b4c9",
   "metadata": {},
   "outputs": [
    {
     "data": {
      "text/plain": [
       "'/Users/gkeramidas/Projects/learning/leolabs-config-data-dynamic'"
      ]
     },
     "execution_count": 55,
     "metadata": {},
     "output_type": "execute_result"
    }
   ],
   "source": [
    "os.environ['LL_DYN_CONFIG_DIR']"
   ]
  },
  {
   "cell_type": "code",
   "execution_count": 56,
   "id": "4bd0ff5e",
   "metadata": {},
   "outputs": [],
   "source": [
    "use_config_directory('/Users/gkeramidas/Projects/learning/leolabs-config-data-dynamic')"
   ]
  },
  {
   "cell_type": "code",
   "execution_count": 57,
   "id": "2f93f86f",
   "metadata": {},
   "outputs": [],
   "source": [
    "from org.orekit.time import TimeScalesFactory"
   ]
  },
  {
   "cell_type": "code",
   "execution_count": 68,
   "id": "5ab4cd6f",
   "metadata": {},
   "outputs": [],
   "source": [
    "from orekit.pyhelpers import  setup_orekit_curdir"
   ]
  },
  {
   "cell_type": "code",
   "execution_count": 69,
   "id": "f9c5999c",
   "metadata": {},
   "outputs": [],
   "source": [
    "setup_orekit_curdir(\"/Users/gkeramidas/Projects/learning/leolabs-config-data-dynamic/\")"
   ]
  },
  {
   "cell_type": "code",
   "execution_count": 70,
   "id": "812ea803",
   "metadata": {},
   "outputs": [],
   "source": [
    "TimeScalesFactory.addDefaultUTCTAIOffsetsLoaders()"
   ]
  },
  {
   "cell_type": "code",
   "execution_count": 71,
   "id": "048db4d3",
   "metadata": {},
   "outputs": [
    {
     "data": {
      "text/plain": [
       "<UTCScale: UTC>"
      ]
     },
     "execution_count": 71,
     "metadata": {},
     "output_type": "execute_result"
    }
   ],
   "source": [
    "TimeScalesFactory.getUTC()"
   ]
  },
  {
   "cell_type": "markdown",
   "id": "a3e947ac",
   "metadata": {},
   "source": [
    "## Run Truth Analysis"
   ]
  },
  {
   "cell_type": "code",
   "execution_count": 160,
   "id": "6581cc06",
   "metadata": {},
   "outputs": [
    {
     "name": "stdout",
     "output_type": "stream",
     "text": [
      "info Syncing ILRS truth data from S3 (17 files downloaded)\n",
      "info Truth data reader assembled (1.1362910270690918 seconds elapsed)\n"
     ]
    }
   ],
   "source": [
    "norm_errors_dict, dist_list = L5011_TO.ilrs_truth_analysis()"
   ]
  },
  {
   "cell_type": "code",
   "execution_count": 111,
   "id": "f68a7637",
   "metadata": {},
   "outputs": [],
   "source": [
    "def extract_epochOffset(norm_errors_dict):\n",
    "    \"\"\"Takes a dictionary with normalized errors and extracts the epoch Offset and returns them into a list\"\"\"\n",
    "    \n",
    "    epoch_Offset_list = []\n",
    "    \n",
    "    for i in range(len(norm_errors_dict)):\n",
    "        epoch_Offset_list.append(norm_errors_dict[i]['epochOffset'])\n",
    "    \n",
    "    return epoch_Offset_list"
   ]
  },
  {
   "cell_type": "code",
   "execution_count": 161,
   "id": "34cb763a",
   "metadata": {},
   "outputs": [],
   "source": [
    "epoch_Offset = extract_epochOffset(norm_errors_dict)"
   ]
  },
  {
   "cell_type": "code",
   "execution_count": 150,
   "id": "2d5d49bb",
   "metadata": {},
   "outputs": [],
   "source": [
    "def extract_norm_error(norm_errors_dict, coord_ind):\n",
    "    \"\"\"Takes a dictionary with normalized errors and extracts any of the errors, based on the coord_ind\"\"\"\n",
    "    \n",
    "    error_list = []\n",
    "    \n",
    "    for i in range(len(norm_errors_dict)):\n",
    "        error_list.append(norm_errors_dict[i]['vals'][coord_ind])\n",
    "        \n",
    "    return error_list"
   ]
  },
  {
   "cell_type": "code",
   "execution_count": 162,
   "id": "74f3ad47",
   "metadata": {},
   "outputs": [],
   "source": [
    "r_err = extract_norm_error(norm_errors_dict,0)\n",
    "i_err = extract_norm_error(norm_errors_dict,1)\n",
    "c_err = extract_norm_error(norm_errors_dict,2)\n",
    "vr_err = extract_norm_error(norm_errors_dict,3)\n",
    "vi_err = extract_norm_error(norm_errors_dict,4)\n",
    "vc_err = extract_norm_error(norm_errors_dict,5)"
   ]
  },
  {
   "cell_type": "code",
   "execution_count": 119,
   "id": "7f1cf13e",
   "metadata": {},
   "outputs": [],
   "source": [
    "from matplotlib import pyplot as plt"
   ]
  },
  {
   "cell_type": "code",
   "execution_count": 163,
   "id": "4a9e82da",
   "metadata": {},
   "outputs": [
    {
     "data": {
      "image/png": "[encoded data removed]",
      "text/plain": [
       "<Figure size 576x576 with 1 Axes>"
      ]
     },
     "metadata": {
      "needs_background": "light"
     },
     "output_type": "display_data"
    }
   ],
   "source": [
    "plt.figure(figsize=(8,8))\n",
    "plt.plot(epoch_Offset,r_err,'g',label='radial')\n",
    "plt.plot(epoch_Offset,i_err,'r',label='in-track')\n",
    "plt.plot(epoch_Offset,c_err,'b',label='cross-track')\n",
    "plt.legend(loc='upper right')\n",
    "plt.xlabel('Seconds from estimation epoch')\n",
    "plt.ylabel('Error')\n",
    "plt.show()"
   ]
  },
  {
   "cell_type": "code",
   "execution_count": 153,
   "id": "2cdcfc03",
   "metadata": {},
   "outputs": [
    {
     "data": {
      "image/png": "[encoded data removed]",
      "text/plain": [
       "<Figure size 576x576 with 1 Axes>"
      ]
     },
     "metadata": {
      "needs_background": "light"
     },
     "output_type": "display_data"
    }
   ],
   "source": [
    "plt.figure(figsize=(8,8))\n",
    "plt.plot(epoch_Offset,vr_err,'g',label='radial vel')\n",
    "plt.plot(epoch_Offset,vi_err,'r',label='in-track vel')\n",
    "plt.plot(epoch_Offset,vc_err,'b',label='cross-track vel')\n",
    "plt.legend(loc='upper right')\n",
    "plt.xlabel('Seconds from estimation epoch')\n",
    "plt.ylabel('Error')\n",
    "plt.show()"
   ]
  },
  {
   "cell_type": "code",
   "execution_count": 1,
   "id": "4b959daf",
   "metadata": {},
   "outputs": [
    {
     "ename": "NameError",
     "evalue": "name 'dist_list' is not defined",
     "output_type": "error",
     "traceback": [
      "\u001b[0;31m---------------------------------------------------------------------------\u001b[0m",
      "\u001b[0;31mNameError\u001b[0m                                 Traceback (most recent call last)",
      "Input \u001b[0;32mIn [1]\u001b[0m, in \u001b[0;36m<cell line: 1>\u001b[0;34m()\u001b[0m\n\u001b[0;32m----> 1\u001b[0m \u001b[43mdist_list\u001b[49m\u001b[38;5;241m.\u001b[39mshape\n",
      "\u001b[0;31mNameError\u001b[0m: name 'dist_list' is not defined"
     ]
    }
   ],
   "source": [
    "dist_list.shape"
   ]
  },
  {
   "cell_type": "code",
   "execution_count": null,
   "id": "f08dc5b5",
   "metadata": {},
   "outputs": [],
   "source": []
  }
 ],
 "metadata": {
  "kernelspec": {
   "display_name": "Python 3 (ipykernel)",
   "language": "python",
   "name": "python3"
  },
  "language_info": {
   "codemirror_mode": {
    "name": "ipython",
    "version": 3
   },
   "file_extension": ".py",
   "mimetype": "text/x-python",
   "name": "python",
   "nbconvert_exporter": "python",
   "pygments_lexer": "ipython3",
   "version": "3.9.13"
  }
 },
 "nbformat": 4,
 "nbformat_minor": 5
}
