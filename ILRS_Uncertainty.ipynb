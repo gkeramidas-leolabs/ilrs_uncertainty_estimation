{
 "cells": [
  {
   "cell_type": "code",
   "execution_count": 1,
   "id": "91b2b34e",
   "metadata": {},
   "outputs": [],
   "source": [
    "import truth_request as tr\n",
    "import truth_analysis as ta\n",
    "from imp import reload\n",
    "from datetime import datetime\n",
    "from datetime import timedelta\n",
    "from dateutil.parser import parse as date_parse\n",
    "import auth\n",
    "import requests\n",
    "import json\n",
    "import datetime as dt\n",
    "import numpy as np\n",
    "import statistics\n",
    "from matplotlib import pyplot as plt"
   ]
  },
  {
   "cell_type": "code",
   "execution_count": 2,
   "id": "1f889dd4",
   "metadata": {},
   "outputs": [],
   "source": [
    "import orekit\n",
    "from orekit.pyhelpers import  setup_orekit_curdir"
   ]
  },
  {
   "cell_type": "code",
   "execution_count": 3,
   "id": "42100179",
   "metadata": {},
   "outputs": [],
   "source": [
    "orekit_vm = orekit.initVM()\n",
    "setup_orekit_curdir(\"/Users/gkeramidas/Projects/learning/leolabs-config-data-dynamic/\")"
   ]
  },
  {
   "cell_type": "code",
   "execution_count": 4,
   "id": "f17e878a",
   "metadata": {},
   "outputs": [],
   "source": [
    "from ilrs import TruthEphemerisManager\n",
    "import ilrs"
   ]
  },
  {
   "cell_type": "code",
   "execution_count": 80,
   "id": "9d481a5c",
   "metadata": {},
   "outputs": [],
   "source": [
    "from od_utils.frame_conversion import eci_to_rtn_rotation_matrix"
   ]
  },
  {
   "cell_type": "code",
   "execution_count": 5,
   "id": "b9c0cc6d",
   "metadata": {},
   "outputs": [],
   "source": [
    "import os"
   ]
  },
  {
   "cell_type": "code",
   "execution_count": 83,
   "id": "72608175",
   "metadata": {},
   "outputs": [],
   "source": [
    "\"\"\"Calculates differences between two ephemerides.\"\"\"\n",
    "def prov_mean_diff(prov1_eph, prov2_eph, epoch_unix):\n",
    "    \n",
    "    timestep = 150\n",
    "    one_day = 24*60*60/timestep\n",
    "    \n",
    "    dX1 = []\n",
    "    dY1 = []\n",
    "    dZ1 = []\n",
    "    dR1 = []\n",
    "    dI1 = []\n",
    "    dC1 = []\n",
    "    dX2 = []\n",
    "    dY2 = []\n",
    "    dZ2 = []\n",
    "    dR2 = []\n",
    "    dI2 = []\n",
    "    dC2 = []\n",
    "    \n",
    "    curr_time=0\n",
    "    \n",
    "    for i in range(int(one_day)):\n",
    "        mean_position = (prov1_eph.position_at_unix_time(epoch_unix+curr_time) + prov2_eph.position_at_unix_time(epoch_unix+curr_time))/2\n",
    "        ECI1_diff = mean_position - prov1_eph.position_at_unix_time(epoch_unix+curr_time) \n",
    "        ECI2_diff = mean_position - prov2_eph.position_at_unix_time(epoch_unix+curr_time)\n",
    "        \n",
    "        \n",
    "        \n",
    "        RTN = eci_to_rtn_rotation_matrix(mean_position,prov1_eph.derived_velocity_at_unix_time(epoch_unix+curr_time))\n",
    "        \n",
    "        RIC1_diff = np.matmul(RTN,ECI1_diff)\n",
    "        RIC2_diff = np.matmul(RTN,ECI2_diff)\n",
    "        \n",
    "        dX1.append(ECI1_diff[0])\n",
    "        dY1.append(ECI1_diff[1])\n",
    "        dZ1.append(ECI1_diff[2])\n",
    "        \n",
    "        dR1.append(RIC1_diff[0])\n",
    "        dI1.append(RIC1_diff[1])\n",
    "        dC1.append(RIC1_diff[2])\n",
    "        \n",
    "        dX2.append(ECI2_diff[0])\n",
    "        dY2.append(ECI2_diff[1])\n",
    "        dZ2.append(ECI2_diff[2])\n",
    "        \n",
    "        dR2.append(RIC2_diff[0])\n",
    "        dI2.append(RIC2_diff[1])\n",
    "        dC2.append(RIC2_diff[2])\n",
    "        \n",
    "        curr_time += timestep\n",
    "    return dX1,dY1,dZ1,dR1,dI1,dC1,dX2,dY2,dZ2,dR2,dI2,dC2               "
   ]
  },
  {
   "cell_type": "code",
   "execution_count": 238,
   "id": "0c550388",
   "metadata": {},
   "outputs": [],
   "source": [
    "\"\"\"Calculates differences between two ephemerides.\"\"\"\n",
    "def single_prov_diff(base_eph, secondary_eph, epoch_unix):\n",
    "    \n",
    "    timestep = 150\n",
    "    one_day = 24*60*60/timestep\n",
    "    \n",
    "    dX = []\n",
    "    dY = []\n",
    "    dZ = []\n",
    "    dR = []\n",
    "    dI = []\n",
    "    dC = []\n",
    "    \n",
    "    curr_time=0\n",
    "    \n",
    "    for i in range(int(one_day)):\n",
    "        ECI_diff = base_eph.position_at_unix_time(epoch_unix+curr_time) - secondary_eph.position_at_unix_time(epoch_unix+curr_time) \n",
    "        \n",
    "        RTN = eci_to_rtn_rotation_matrix(base_eph.position_at_unix_time(epoch_unix+curr_time),base_eph.derived_velocity_at_unix_time(epoch_unix+curr_time))\n",
    "        \n",
    "        RIC_diff = np.matmul(RTN,ECI_diff)\n",
    "        \n",
    "        dX.append(ECI_diff[0])\n",
    "        dY.append(ECI_diff[1])\n",
    "        dZ.append(ECI_diff[2])\n",
    "        \n",
    "        dR.append(RIC_diff[0])\n",
    "        dI.append(RIC_diff[1])\n",
    "        dC.append(RIC_diff[2])\n",
    "        \n",
    "        curr_time += timestep\n",
    "    return dX,dY,dZ,dR,dI,dC"
   ]
  },
  {
   "cell_type": "code",
   "execution_count": 6,
   "id": "8e5ffdf1",
   "metadata": {},
   "outputs": [],
   "source": [
    "class tephem:\n",
    "    def __init__(self, year, month, day, ephem, name, ftype):\n",
    "        self.year = year\n",
    "        self.month = month\n",
    "        self.day = day\n",
    "        self.ephem = ephem\n",
    "        self.name = name\n",
    "        self.ftype = ftype"
   ]
  },
  {
   "cell_type": "code",
   "execution_count": 90,
   "id": "27a02403",
   "metadata": {},
   "outputs": [
    {
     "name": "stdout",
     "output_type": "stream",
     "text": [
      "220429\n",
      "22 04 29\n",
      "larets_cpf_220429_11901.hts\n",
      "hts\n",
      "220408\n",
      "22 04 08\n",
      "larets_cpf_220408_09801.hts\n",
      "hts\n",
      "220423\n",
      "22 04 23\n",
      "larets_cpf_220423_11301.sgf\n",
      "sgf\n",
      "220408\n",
      "22 04 08\n",
      "larets_cpf_220408_5981.hts\n",
      "hts\n",
      "220425\n",
      "22 04 25\n",
      "larets_cpf_220425_11501.sgf\n",
      "sgf\n",
      "220409\n",
      "22 04 09\n",
      "larets_cpf_220409_09901.hts\n",
      "hts\n",
      "220406\n",
      "22 04 06\n",
      "larets_cpf_220406_5961.hts\n",
      "hts\n",
      "220428\n",
      "22 04 28\n",
      "larets_cpf_220428_11801.hts\n",
      "hts\n",
      "220422\n",
      "22 04 22\n",
      "larets_cpf_220422_11201.sgf\n",
      "sgf\n",
      "220424\n",
      "22 04 24\n",
      "larets_cpf_220424_11401.sgf\n",
      "sgf\n",
      "220405\n",
      "22 04 05\n",
      "larets_cpf_220405_09501.sgf\n",
      "sgf\n",
      "220420\n",
      "22 04 20\n",
      "larets_cpf_220420_11001.hts\n",
      "hts\n",
      "220430\n",
      "22 04 30\n",
      "larets_cpf_220430_12001.hts\n",
      "hts\n",
      "220407\n",
      "22 04 07\n",
      "larets_cpf_220407_09701.hts\n",
      "hts\n",
      "220426\n",
      "22 04 26\n",
      "larets_cpf_220426_11601.hts\n",
      "hts\n",
      "220407\n",
      "22 04 07\n",
      "larets_cpf_220407_5971.hts\n",
      "hts\n",
      "220421\n",
      "22 04 21\n",
      "larets_cpf_220421_11101.hts\n",
      "hts\n",
      "220409\n",
      "22 04 09\n",
      "larets_cpf_220409_5991.hts\n",
      "hts\n",
      "220427\n",
      "22 04 27\n",
      "larets_cpf_220427_11701.hts\n",
      "hts\n",
      "220406\n",
      "22 04 06\n",
      "larets_cpf_220406_09601.hts\n",
      "hts\n",
      "220411\n",
      "22 04 11\n",
      "larets_cpf_220411_10101.hts\n",
      "hts\n",
      "220504\n",
      "22 05 04\n",
      "larets_cpf_220504_12401.sgf\n",
      "sgf\n",
      "220417\n",
      "22 04 17\n",
      "larets_cpf_220417_10701.hts\n",
      "hts\n",
      "220502\n",
      "22 05 02\n",
      "larets_cpf_220502_12201.sgf\n",
      "sgf\n",
      "220508\n",
      "22 05 08\n",
      "larets_cpf_220508_12801.hts\n",
      "hts\n",
      "220405\n",
      "22 04 05\n",
      "larets_cpf_220405_5951.hts\n",
      "hts\n",
      "220410\n",
      "22 04 10\n",
      "larets_cpf_220410_10001.hts\n",
      "hts\n",
      "220505\n",
      "22 05 05\n",
      "larets_cpf_220505_12501.sgf\n",
      "sgf\n",
      "220416\n",
      "22 04 16\n",
      "larets_cpf_220416_10601.hts\n",
      "hts\n",
      "220503\n",
      "22 05 03\n",
      "larets_cpf_220503_12301.sgf\n",
      "sgf\n",
      "220410\n",
      "22 04 10\n",
      "larets_cpf_220410_6001.hts\n",
      "hts\n",
      "220509\n",
      "22 05 09\n",
      "larets_cpf_220509_12901.hts\n",
      "hts\n",
      "220507\n",
      "22 05 07\n",
      "larets_cpf_220507_12701.hts\n",
      "hts\n",
      "220412\n",
      "22 04 12\n",
      "larets_cpf_220412_10201.sgf\n",
      "sgf\n",
      "220418\n",
      "22 04 18\n",
      "larets_cpf_220418_10801.hts\n",
      "hts\n",
      "220411\n",
      "22 04 11\n",
      "larets_cpf_220411_6011.hts\n",
      "hts\n",
      "220501\n",
      "22 05 01\n",
      "larets_cpf_220501_12101.hts\n",
      "hts\n",
      "220414\n",
      "22 04 14\n",
      "larets_cpf_220414_10401.sgf\n",
      "sgf\n",
      "220506\n",
      "22 05 06\n",
      "larets_cpf_220506_12601.hts\n",
      "hts\n",
      "220413\n",
      "22 04 13\n",
      "larets_cpf_220413_10301.sgf\n",
      "sgf\n",
      "220419\n",
      "22 04 19\n",
      "larets_cpf_220419_10901.hts\n",
      "hts\n",
      "220415\n",
      "22 04 15\n",
      "larets_cpf_220415_10501.sgf\n",
      "sgf\n",
      "220420\n",
      "22 04 20\n",
      "larets_cpf_220420_11001.sgf\n",
      "sgf\n",
      "220430\n",
      "22 04 30\n",
      "larets_cpf_220430_12001.sgf\n",
      "sgf\n",
      "220426\n",
      "22 04 26\n",
      "larets_cpf_220426_11601.sgf\n",
      "sgf\n",
      "220407\n",
      "22 04 07\n",
      "larets_cpf_220407_09701.sgf\n",
      "sgf\n",
      "220411\n",
      "22 04 11\n",
      "larets_cpf_220411_6011.mcc\n",
      "mcc\n",
      "220421\n",
      "22 04 21\n",
      "larets_cpf_220421_11101.sgf\n",
      "sgf\n",
      "220406\n",
      "22 04 06\n",
      "larets_cpf_220406_09601.sgf\n",
      "sgf\n",
      "220427\n",
      "22 04 27\n",
      "larets_cpf_220427_11701.sgf\n",
      "sgf\n",
      "220408\n",
      "22 04 08\n",
      "larets_cpf_220408_09801.sgf\n",
      "sgf\n",
      "220429\n",
      "22 04 29\n",
      "larets_cpf_220429_11901.sgf\n",
      "sgf\n",
      "220423\n",
      "22 04 23\n",
      "larets_cpf_220423_11301.hts\n",
      "hts\n",
      "220405\n",
      "22 04 05\n",
      "larets_cpf_220405_5951.mcc\n",
      "mcc\n",
      "220425\n",
      "22 04 25\n",
      "larets_cpf_220425_11501.hts\n",
      "hts\n",
      "220428\n",
      "22 04 28\n",
      "larets_cpf_220428_11801.sgf\n",
      "sgf\n",
      "220409\n",
      "22 04 09\n",
      "larets_cpf_220409_09901.sgf\n",
      "sgf\n",
      "220422\n",
      "22 04 22\n",
      "larets_cpf_220422_11201.hts\n",
      "hts\n",
      "220405\n",
      "22 04 05\n",
      "larets_cpf_220405_09501.hts\n",
      "hts\n",
      "220424\n",
      "22 04 24\n",
      "larets_cpf_220424_11401.hts\n",
      "hts\n",
      "220412\n",
      "22 04 12\n",
      "larets_cpf_220412_10201.hts\n",
      "hts\n",
      "220507\n",
      "22 05 07\n",
      "larets_cpf_220507_12701.sgf\n",
      "sgf\n",
      "220418\n",
      "22 04 18\n",
      "larets_cpf_220418_10801.sgf\n",
      "sgf\n",
      "220414\n",
      "22 04 14\n",
      "larets_cpf_220414_10401.hts\n",
      "hts\n",
      "220501\n",
      "22 05 01\n",
      "larets_cpf_220501_12101.sgf\n",
      "sgf\n",
      "220413\n",
      "22 04 13\n",
      "larets_cpf_220413_10301.hts\n",
      "hts\n",
      "220506\n",
      "22 05 06\n",
      "larets_cpf_220506_12601.sgf\n",
      "sgf\n",
      "220419\n",
      "22 04 19\n",
      "larets_cpf_220419_10901.sgf\n",
      "sgf\n",
      "220407\n",
      "22 04 07\n",
      "larets_cpf_220407_5971.mcc\n",
      "mcc\n",
      "220415\n",
      "22 04 15\n",
      "larets_cpf_220415_10501.hts\n",
      "hts\n",
      "220504\n",
      "22 05 04\n",
      "larets_cpf_220504_12401.hts\n",
      "hts\n",
      "220406\n",
      "22 04 06\n",
      "larets_cpf_220406_5961.mcc\n",
      "mcc\n",
      "220411\n",
      "22 04 11\n",
      "larets_cpf_220411_10101.sgf\n",
      "sgf\n",
      "220502\n",
      "22 05 02\n",
      "larets_cpf_220502_12201.hts\n",
      "hts\n",
      "220417\n",
      "22 04 17\n",
      "larets_cpf_220417_10701.sgf\n",
      "sgf\n",
      "220508\n",
      "22 05 08\n",
      "larets_cpf_220508_12801.sgf\n",
      "sgf\n",
      "220505\n",
      "22 05 05\n",
      "larets_cpf_220505_12501.hts\n",
      "hts\n",
      "220410\n",
      "22 04 10\n",
      "larets_cpf_220410_10001.sgf\n",
      "sgf\n",
      "220503\n",
      "22 05 03\n",
      "larets_cpf_220503_12301.hts\n",
      "hts\n",
      "220416\n",
      "22 04 16\n",
      "larets_cpf_220416_10601.sgf\n",
      "sgf\n",
      "220509\n",
      "22 05 09\n",
      "larets_cpf_220509_12901.sgf\n",
      "sgf\n",
      "220408\n",
      "22 04 08\n",
      "larets_cpf_220408_5981.mcc\n",
      "mcc\n"
     ]
    }
   ],
   "source": [
    "ephemerides = []\n",
    "directory = '/Users/gkeramidas/Projects/learning/truth/L2486/'\n",
    "for file in os.listdir(directory):\n",
    "    name = str(file)\n",
    "    date = file.split(\"_\")[-2]\n",
    "    year = \"\".join(list(date)[0:2])\n",
    "    month = \"\".join(list(date)[2:4])\n",
    "    day = \"\".join(list(date)[4:])\n",
    "    ftype = file.split(\".\")[-1]\n",
    "    if ftype == \"dgf\":\n",
    "        pass\n",
    "    else:\n",
    "        eph = TruthEphemerisManager([directory+file])\n",
    "        ephemerides.append(tephem(int(year),int(month),int(day),eph,str(name),str(ftype)))\n",
    "        print(date)\n",
    "        print(year,month,day)\n",
    "        print(name)\n",
    "        print(ftype)"
   ]
  },
  {
   "cell_type": "code",
   "execution_count": 36,
   "id": "c492d284",
   "metadata": {},
   "outputs": [],
   "source": [
    "\"\"\"Takes one day and returns the next one\"\"\"\n",
    "def next_day(year, month, day):\n",
    "    day_list = [int(i) for i in np.linspace(1,31,31)]\n",
    "    month_list = [int(i) for i in np.linspace(1,12,12)]\n",
    "    \n",
    "    if month in [1,3,5,7,8,11,12]:\n",
    "        dlist = day_list\n",
    "    if month == 2:\n",
    "        dlist = day_list[0:28]\n",
    "    if month in [4,6,9,10]:\n",
    "        dlist = day_list[0:30]\n",
    "        \n",
    "    next_day = np.roll(dlist,-1)[day-1]\n",
    "    \n",
    "    if next_day == 1:\n",
    "        next_month = np.roll(month_list,-1)[month-1]\n",
    "    else:\n",
    "        next_month = month\n",
    "        \n",
    "    if (next_day == 1 and next_month == 1):\n",
    "        next_year = year + 1\n",
    "    else:\n",
    "        next_year = year\n",
    "    \n",
    "    return next_year,next_month, next_day"
   ]
  },
  {
   "cell_type": "code",
   "execution_count": 37,
   "id": "725c9804",
   "metadata": {},
   "outputs": [
    {
     "data": {
      "text/plain": [
       "(2023, 1, 1)"
      ]
     },
     "execution_count": 37,
     "metadata": {},
     "output_type": "execute_result"
    }
   ],
   "source": [
    "next_day(2022,12,31)"
   ]
  },
  {
   "cell_type": "code",
   "execution_count": 84,
   "id": "4b406dd4",
   "metadata": {},
   "outputs": [],
   "source": [
    "def find_ephem(ephem_list,year,month,day,ftype):\n",
    "    year = int(\"\".join(list(str(year)))[2:])\n",
    "    for eph in ephem_list:\n",
    "        if (eph.year == year and eph.month == month and eph.day == day and eph.ftype == ftype):\n",
    "            return eph"
   ]
  },
  {
   "cell_type": "code",
   "execution_count": 231,
   "id": "39bc5d17",
   "metadata": {},
   "outputs": [],
   "source": [
    "def fetch_consecutive_ephems(ephem_list,year,month,day,ftype):\n",
    "    \n",
    "    one_year,one_month,one_day = previous_day(year,month,day)\n",
    "    two_year,two_month,two_day = previous_day(one_year,one_month,one_day)\n",
    "    three_year,three_month,three_day = previous_day(two_year,two_month,two_day)\n",
    "    \n",
    "    year = int(\"\".join(list(str(year)))[2:])\n",
    "    one_year = int(\"\".join(list(str(one_year)))[2:])\n",
    "    two_year = int(\"\".join(list(str(two_year)))[2:])\n",
    "    three_year = int(\"\".join(list(str(three_year)))[2:])\n",
    "    \n",
    "    base_ephem = 0\n",
    "    one_ephem = 0\n",
    "    two_ephem = 0\n",
    "    three_ephem = 0\n",
    "    \n",
    "    for eph in ephem_list:\n",
    "        if (eph.year == year and eph.month == month and eph.day == day and eph.ftype == ftype):\n",
    "            base_ephem = eph\n",
    "        if (eph.year == one_year and eph.month == one_month and eph.day == one_day and eph.ftype == ftype):\n",
    "            one_ephem = eph\n",
    "        if (eph.year == two_year and eph.month == two_month and eph.day == two_day and eph.ftype == ftype):\n",
    "            two_ephem = eph\n",
    "        if (eph.year == three_year and eph.month == three_month and eph.day == three_day and eph.ftype == ftype):\n",
    "            three_ephem = eph\n",
    "            \n",
    "    return base_ephem, one_ephem, two_ephem, three_ephem"
   ]
  },
  {
   "cell_type": "code",
   "execution_count": null,
   "id": "9debf493",
   "metadata": {},
   "outputs": [],
   "source": [
    "def locate_date(ephem_list,year,month,day,preferred_provider,prov_list):\n",
    "    candidate_ephem = []\n",
    "    for eph in ephem_list:\n",
    "        if (eph.year == year and eph.month == month and eph.day == day and eph.ftype in prov_list):\n",
    "            candidate_ephem.append(eph)\n",
    "    \n",
    "    final_eph = 0\n",
    "    \n",
    "    if candidate_ephem:\n",
    "        for eph in candidate_ephem:\n",
    "            if eph.ftype == preffered_provider:\n",
    "                final_eph = eph\n",
    "            else:\n",
    "                final"
   ]
  },
  {
   "cell_type": "code",
   "execution_count": 243,
   "id": "5e5e6f41",
   "metadata": {},
   "outputs": [],
   "source": [
    "B,B1,B2,B3 = fetch_consecutive_ephems(ephemerides,2022,5,2,'hts')"
   ]
  },
  {
   "cell_type": "code",
   "execution_count": 246,
   "id": "71865bb3",
   "metadata": {},
   "outputs": [
    {
     "data": {
      "text/plain": [
       "'larets_cpf_220502_12201.hts'"
      ]
     },
     "execution_count": 246,
     "metadata": {},
     "output_type": "execute_result"
    }
   ],
   "source": [
    "B.name"
   ]
  },
  {
   "cell_type": "code",
   "execution_count": 122,
   "id": "0195a8b1",
   "metadata": {},
   "outputs": [],
   "source": [
    "E = find_ephem(ephemerides,2022,5,5,'sgf')"
   ]
  },
  {
   "cell_type": "code",
   "execution_count": 265,
   "id": "f371cb7c",
   "metadata": {},
   "outputs": [],
   "source": [
    "def compare_single_prov_ephems(ephem_list, year, month, day, length, prov_type):\n",
    "    n_year = year\n",
    "    n_month = month\n",
    "    n_day = day\n",
    "    \n",
    "    unc_X1day = []\n",
    "    unc_X2days = []\n",
    "    unc_X3days = []\n",
    "    unc_Y1day = []\n",
    "    unc_Y2days = []\n",
    "    unc_Y3days = []\n",
    "    unc_Z1day = []\n",
    "    unc_Z2days = []\n",
    "    unc_Z3days = []\n",
    "    \n",
    "    for i in range(length):\n",
    "        Eb, E1, E2, E3 = fetch_consecutive_ephems(ephem_list, n_year, n_month, n_day, prov_type)\n",
    "        print(\"base:\",Eb.name)\n",
    "        print(\"one:\",E1.name)\n",
    "        print(\"two:\",E2.name)\n",
    "        print(\"three:\",E3.name)\n",
    "        epoch_unix = calculate_epoch_unix(n_year,n_month,n_day)\n",
    "        \n",
    "        dX1,dY1,dZ1,dR1,dI1,dC1 = single_prov_diff(Eb.ephem, E1.ephem, epoch_unix)\n",
    "        dX2,dY2,dZ2,dR2,dI2,dC2 = single_prov_diff(Eb.ephem, E2.ephem, epoch_unix)\n",
    "        dX3,dY3,dZ3,dR3,dI3,dC3 = single_prov_diff(Eb.ephem, E3.ephem, epoch_unix)\n",
    "        \n",
    "        unc_X1day.append(max_conf_day(dX1))\n",
    "        unc_Y1day.append(max_conf_day(dY1))\n",
    "        unc_Z1day.append(max_conf_day(dZ1))\n",
    "        unc_X2days.append(max_conf_day(dX2))\n",
    "        unc_Y2days.append(max_conf_day(dY2))\n",
    "        unc_Z2days.append(max_conf_day(dZ2))\n",
    "        unc_X3days.append(max_conf_day(dX3))\n",
    "        unc_Y3days.append(max_conf_day(dY3))\n",
    "        unc_Z3days.append(max_conf_day(dZ3))\n",
    "        \n",
    "        n_year,n_month,n_day = next_day(n_year,n_month,n_day)\n",
    "    return unc_X1day, unc_X2days, unc_X3days, unc_Y1day, unc_Y2days, unc_Y3days, unc_Z1day, unc_Z2days, unc_Z3days"
   ]
  },
  {
   "cell_type": "code",
   "execution_count": 266,
   "id": "08c2448a",
   "metadata": {},
   "outputs": [
    {
     "name": "stdout",
     "output_type": "stream",
     "text": [
      "base: larets_cpf_220505_12501.hts\n",
      "one: larets_cpf_220504_12401.hts\n",
      "two: larets_cpf_220503_12301.hts\n",
      "three: larets_cpf_220502_12201.hts\n",
      "base: larets_cpf_220506_12601.hts\n",
      "one: larets_cpf_220505_12501.hts\n",
      "two: larets_cpf_220504_12401.hts\n",
      "three: larets_cpf_220503_12301.hts\n",
      "base: larets_cpf_220507_12701.hts\n",
      "one: larets_cpf_220506_12601.hts\n",
      "two: larets_cpf_220505_12501.hts\n",
      "three: larets_cpf_220504_12401.hts\n",
      "base: larets_cpf_220508_12801.hts\n",
      "one: larets_cpf_220507_12701.hts\n",
      "two: larets_cpf_220506_12601.hts\n",
      "three: larets_cpf_220505_12501.hts\n",
      "base: larets_cpf_220509_12901.hts\n",
      "one: larets_cpf_220508_12801.hts\n",
      "two: larets_cpf_220507_12701.hts\n",
      "three: larets_cpf_220506_12601.hts\n"
     ]
    }
   ],
   "source": [
    "htsX1day,htsX2day,htsX3day,htsY1day,htsY2day,htsY3day,htsZ1day,htsZ2day,htsZ3day = compare_single_prov_ephems(ephemerides,2022,5,5,5,\"hts\")"
   ]
  },
  {
   "cell_type": "code",
   "execution_count": 267,
   "id": "ef3d7760",
   "metadata": {},
   "outputs": [],
   "source": [
    "X1 = error(htsX1day)\n",
    "X2 = error(htsX2day)\n",
    "X3 = error(htsX3day)\n",
    "Y1 = error(htsY1day)\n",
    "Y2 = error(htsY2day)\n",
    "Y3 = error(htsY3day)\n",
    "Z1 = error(htsZ1day)\n",
    "Z2 = error(htsZ2day)\n",
    "Z3 = error(htsZ3day)"
   ]
  },
  {
   "cell_type": "code",
   "execution_count": 268,
   "id": "d8153bd8",
   "metadata": {},
   "outputs": [
    {
     "data": {
      "image/png": "[encoded data removed]",
      "text/plain": [
       "<Figure size 432x288 with 1 Axes>"
      ]
     },
     "metadata": {
      "needs_background": "light"
     },
     "output_type": "display_data"
    }
   ],
   "source": [
    "plt.scatter([1,2,3],[X1,X2,X3])\n",
    "plt.show()"
   ]
  },
  {
   "cell_type": "code",
   "execution_count": 269,
   "id": "6215672e",
   "metadata": {},
   "outputs": [
    {
     "data": {
      "image/png": "[encoded data removed]",
      "text/plain": [
       "<Figure size 432x288 with 1 Axes>"
      ]
     },
     "metadata": {
      "needs_background": "light"
     },
     "output_type": "display_data"
    }
   ],
   "source": [
    "plt.scatter([1,2,3],[Y1,Y2,Y3])\n",
    "plt.show()"
   ]
  },
  {
   "cell_type": "code",
   "execution_count": 270,
   "id": "5c822ff0",
   "metadata": {},
   "outputs": [
    {
     "data": {
      "image/png": "[encoded data removed]",
      "text/plain": [
       "<Figure size 432x288 with 1 Axes>"
      ]
     },
     "metadata": {
      "needs_background": "light"
     },
     "output_type": "display_data"
    }
   ],
   "source": [
    "plt.scatter([1,2,3],[Z1,Z2,Z3])\n",
    "plt.show()"
   ]
  },
  {
   "cell_type": "code",
   "execution_count": 271,
   "id": "21fbcbc9",
   "metadata": {},
   "outputs": [],
   "source": [
    "from scipy import stats"
   ]
  },
  {
   "cell_type": "code",
   "execution_count": 272,
   "id": "c00bb2d4",
   "metadata": {},
   "outputs": [],
   "source": [
    "days_list = [1,2,3]"
   ]
  },
  {
   "cell_type": "code",
   "execution_count": 282,
   "id": "8b248b6f",
   "metadata": {},
   "outputs": [
    {
     "data": {
      "text/plain": [
       "LinregressResult(slope=88.5953604662028, intercept=-86.89379109328013, rvalue=0.9682185436451567, pvalue=0.16093073263971194, stderr=22.885538725977867, intercept_stderr=49.43841407547798)"
      ]
     },
     "execution_count": 282,
     "metadata": {},
     "output_type": "execute_result"
    }
   ],
   "source": [
    "stats.linregress(days_list,[X1,X2,X3])"
   ]
  },
  {
   "cell_type": "code",
   "execution_count": 284,
   "id": "e941278d",
   "metadata": {},
   "outputs": [
    {
     "data": {
      "text/plain": [
       "array([ 39.63891583, -69.96030286,  45.23592835])"
      ]
     },
     "execution_count": 284,
     "metadata": {},
     "output_type": "execute_result"
    }
   ],
   "source": [
    "np.polyfit(days_list,[X1,X2,X3],2)"
   ]
  },
  {
   "cell_type": "code",
   "execution_count": 294,
   "id": "52e12226",
   "metadata": {},
   "outputs": [
    {
     "name": "stdout",
     "output_type": "stream",
     "text": [
      "13.926696102053203\n"
     ]
    }
   ],
   "source": [
    "_,intercept = np.polyfit(days_list,np.log([Z1,Z2,Z3]),1)\n",
    "print(np.exp(intercept))"
   ]
  },
  {
   "cell_type": "code",
   "execution_count": 307,
   "id": "158318b1",
   "metadata": {},
   "outputs": [],
   "source": [
    "def exp_fit(uncertainty_list):\n",
    "    days_list = [1,2,3]\n",
    "    _,intercept = np.polyfit(days_list,np.log(uncertainty_list),1)\n",
    "    return np.exp(intercept)"
   ]
  },
  {
   "cell_type": "code",
   "execution_count": 310,
   "id": "872b739b",
   "metadata": {},
   "outputs": [],
   "source": [
    "_,intercept = np.polyfit(days_list,[X1,X2,X3],1)"
   ]
  },
  {
   "cell_type": "code",
   "execution_count": 311,
   "id": "3c7ba2d4",
   "metadata": {},
   "outputs": [
    {
     "data": {
      "text/plain": [
       "-86.89379109328006"
      ]
     },
     "execution_count": 311,
     "metadata": {},
     "output_type": "execute_result"
    }
   ],
   "source": [
    "intercept"
   ]
  },
  {
   "cell_type": "code",
   "execution_count": 308,
   "id": "58547351",
   "metadata": {},
   "outputs": [
    {
     "data": {
      "text/plain": [
       "4.4077968264432"
      ]
     },
     "execution_count": 308,
     "metadata": {},
     "output_type": "execute_result"
    }
   ],
   "source": [
    "exp_fit([X1,X2,X3])"
   ]
  },
  {
   "cell_type": "code",
   "execution_count": 156,
   "id": "721c4e53",
   "metadata": {},
   "outputs": [],
   "source": [
    "def max_conf_day(error_list):\n",
    "    return np.percentile(error_list,95,method='closest_observation')"
   ]
  },
  {
   "cell_type": "code",
   "execution_count": 166,
   "id": "0d4fe163",
   "metadata": {},
   "outputs": [],
   "source": [
    "def compare_eph(ephem_list, year, month, day, length, prov1, prov2):\n",
    "    n_year = year\n",
    "    n_month = month\n",
    "    n_day = day\n",
    "    \n",
    "    prov1_unc_I = []\n",
    "    prov2_unc_I = []\n",
    "    prov1_unc_X = []\n",
    "    prov2_unc_X = []\n",
    "    prov1_unc_Y = []\n",
    "    prov2_unc_Y = []\n",
    "    prov1_unc_Z = []\n",
    "    prov2_unc_Z = []\n",
    "    for i in range(length):\n",
    "        prov1_eph_obj = find_ephem(ephem_list,n_year,n_month,n_day,prov1)\n",
    "        prov2_eph_obj = find_ephem(ephem_list,n_year,n_month,n_day,prov2)\n",
    "        epoch_unix = calculate_epoch_unix(n_year,n_month,n_day)\n",
    "        \n",
    "        dX1,dY1,dZ1,dR1,dI1,dC1,dX2,dY2,dZ2,dR2,dI2,dC2 = prov_mean_diff(prov1_eph_obj.ephem, prov2_eph_obj.ephem, epoch_unix)\n",
    "        prov1_unc_I.append(max_conf_day(dI1))\n",
    "        prov2_unc_I.append(max_conf_day(dI2))\n",
    "        prov1_unc_X.append(max_conf_day(dX1))\n",
    "        prov2_unc_X.append(max_conf_day(dX2))\n",
    "        prov1_unc_Y.append(max_conf_day(dY1))\n",
    "        prov2_unc_Y.append(max_conf_day(dY2))\n",
    "        prov1_unc_Z.append(max_conf_day(dZ1))\n",
    "        prov2_unc_Z.append(max_conf_day(dZ2))\n",
    "        print(\"hts:\",prov1_eph_obj.name)\n",
    "        print(\"sgf:\",prov2_eph_obj.name)\n",
    "        #print(\"unix:\",epoch_unix)\n",
    "        \n",
    "        \n",
    "        n_year,n_month,n_day = next_day(n_year,n_month,n_day)\n",
    "    return prov1_unc_I, prov2_unc_I, prov1_unc_X, prov2_unc_X, prov1_unc_Y, prov2_unc_Y, prov1_unc_Z, prov2_unc_Z"
   ]
  },
  {
   "cell_type": "code",
   "execution_count": 168,
   "id": "f5a1acd7",
   "metadata": {},
   "outputs": [
    {
     "name": "stdout",
     "output_type": "stream",
     "text": [
      "hts: larets_cpf_220405_5951.hts\n",
      "sgf: larets_cpf_220405_09501.sgf\n",
      "hts: larets_cpf_220406_5961.hts\n",
      "sgf: larets_cpf_220406_09601.sgf\n",
      "hts: larets_cpf_220407_09701.hts\n",
      "sgf: larets_cpf_220407_09701.sgf\n",
      "hts: larets_cpf_220408_09801.hts\n",
      "sgf: larets_cpf_220408_09801.sgf\n",
      "hts: larets_cpf_220409_09901.hts\n",
      "sgf: larets_cpf_220409_09901.sgf\n",
      "hts: larets_cpf_220410_10001.hts\n",
      "sgf: larets_cpf_220410_10001.sgf\n",
      "hts: larets_cpf_220411_10101.hts\n",
      "sgf: larets_cpf_220411_10101.sgf\n",
      "hts: larets_cpf_220412_10201.hts\n",
      "sgf: larets_cpf_220412_10201.sgf\n",
      "hts: larets_cpf_220413_10301.hts\n",
      "sgf: larets_cpf_220413_10301.sgf\n",
      "hts: larets_cpf_220414_10401.hts\n",
      "sgf: larets_cpf_220414_10401.sgf\n",
      "hts: larets_cpf_220415_10501.hts\n",
      "sgf: larets_cpf_220415_10501.sgf\n",
      "hts: larets_cpf_220416_10601.hts\n",
      "sgf: larets_cpf_220416_10601.sgf\n",
      "hts: larets_cpf_220417_10701.hts\n",
      "sgf: larets_cpf_220417_10701.sgf\n",
      "hts: larets_cpf_220418_10801.hts\n",
      "sgf: larets_cpf_220418_10801.sgf\n",
      "hts: larets_cpf_220419_10901.hts\n",
      "sgf: larets_cpf_220419_10901.sgf\n",
      "hts: larets_cpf_220420_11001.hts\n",
      "sgf: larets_cpf_220420_11001.sgf\n",
      "hts: larets_cpf_220421_11101.hts\n",
      "sgf: larets_cpf_220421_11101.sgf\n",
      "hts: larets_cpf_220422_11201.hts\n",
      "sgf: larets_cpf_220422_11201.sgf\n",
      "hts: larets_cpf_220423_11301.hts\n",
      "sgf: larets_cpf_220423_11301.sgf\n",
      "hts: larets_cpf_220424_11401.hts\n",
      "sgf: larets_cpf_220424_11401.sgf\n",
      "hts: larets_cpf_220425_11501.hts\n",
      "sgf: larets_cpf_220425_11501.sgf\n",
      "hts: larets_cpf_220426_11601.hts\n",
      "sgf: larets_cpf_220426_11601.sgf\n",
      "hts: larets_cpf_220427_11701.hts\n",
      "sgf: larets_cpf_220427_11701.sgf\n",
      "hts: larets_cpf_220428_11801.hts\n",
      "sgf: larets_cpf_220428_11801.sgf\n",
      "hts: larets_cpf_220429_11901.hts\n",
      "sgf: larets_cpf_220429_11901.sgf\n",
      "hts: larets_cpf_220430_12001.hts\n",
      "sgf: larets_cpf_220430_12001.sgf\n",
      "hts: larets_cpf_220501_12101.hts\n",
      "sgf: larets_cpf_220501_12101.sgf\n",
      "hts: larets_cpf_220502_12201.hts\n",
      "sgf: larets_cpf_220502_12201.sgf\n",
      "hts: larets_cpf_220503_12301.hts\n",
      "sgf: larets_cpf_220503_12301.sgf\n",
      "hts: larets_cpf_220504_12401.hts\n",
      "sgf: larets_cpf_220504_12401.sgf\n"
     ]
    }
   ],
   "source": [
    "hts_uncI,sgf_uncI, hts_uncX, sgf_uncX, hts_uncY, sgf_uncY, hts_uncZ, sgf_uncZ = compare_eph(ephemerides,2022,4,5,30,\"hts\",\"sgf\")"
   ]
  },
  {
   "cell_type": "code",
   "execution_count": 169,
   "id": "d4563b00",
   "metadata": {},
   "outputs": [
    {
     "data": {
      "image/png": "[encoded data removed]",
      "text/plain": [
       "<Figure size 432x288 with 1 Axes>"
      ]
     },
     "metadata": {
      "needs_background": "light"
     },
     "output_type": "display_data"
    }
   ],
   "source": [
    "plt.plot([x for x in range(len(hts_uncI))], [x for x in hts_uncI],\"r\",label=\"hts\")\n",
    "plt.plot([x for x in range(len(sgf_uncI))], [x for x in sgf_uncI],\"b\",label=\"sgf\")\n",
    "plt.xlabel(\"days\")\n",
    "plt.ylabel(\"d In-track (m)\")\n",
    "plt.legend()\n",
    "plt.show()"
   ]
  },
  {
   "cell_type": "code",
   "execution_count": 170,
   "id": "26b02c2a",
   "metadata": {},
   "outputs": [
    {
     "data": {
      "image/png": "[encoded data removed]",
      "text/plain": [
       "<Figure size 432x288 with 1 Axes>"
      ]
     },
     "metadata": {
      "needs_background": "light"
     },
     "output_type": "display_data"
    }
   ],
   "source": [
    "plt.plot([x for x in range(len(hts_uncX))], [x for x in hts_uncX],\"r\",label=\"hts\")\n",
    "plt.plot([x for x in range(len(sgf_uncX))], [x for x in sgf_uncX],\"b\",label=\"sgf\")\n",
    "plt.xlabel(\"days\")\n",
    "plt.ylabel(\"d X (m)\")\n",
    "plt.legend()\n",
    "plt.show()"
   ]
  },
  {
   "cell_type": "code",
   "execution_count": 385,
   "id": "e139ee8a",
   "metadata": {},
   "outputs": [
    {
     "data": {
      "image/png": "[encoded data removed]",
      "text/plain": [
       "<Figure size 432x288 with 1 Axes>"
      ]
     },
     "metadata": {
      "needs_background": "light"
     },
     "output_type": "display_data"
    }
   ],
   "source": [
    "data = hts_uncX\n",
    "distribution = scipy.stats.gaussian_kde(data)\n",
    "md = calc_shgo_mode(data,distribution)\n",
    "plt.hist(data)\n",
    "plt.axvline(x=md,color='r',label=\"mode\")\n",
    "plt.axvline(x=md + 1.96*statistics.pstdev(data),color=\"magenta\",label=\"CI\")\n",
    "plt.legend()\n",
    "plt.xlabel(r\"$\\delta X (m)$\")\n",
    "plt.ylabel(\"# Observations\")\n",
    "plt.show()"
   ]
  },
  {
   "cell_type": "code",
   "execution_count": 358,
   "id": "8f50a0df",
   "metadata": {},
   "outputs": [],
   "source": [
    "import scipy.stats\n",
    "import scipy.optimize"
   ]
  },
  {
   "cell_type": "code",
   "execution_count": 359,
   "id": "f673c778",
   "metadata": {},
   "outputs": [],
   "source": [
    "def calc_shgo_mode(data, distribution):\n",
    "    def objective(x):\n",
    "        return 1/distribution.pdf(x)[0]\n",
    "    \n",
    "    bnds = [[min(data), max(data)]]\n",
    "    solution = scipy.optimize.shgo(objective, bounds= bnds, n=100*len(data))\n",
    "    return solution.x[0]"
   ]
  },
  {
   "cell_type": "code",
   "execution_count": 366,
   "id": "c1ac35cb",
   "metadata": {},
   "outputs": [],
   "source": [
    "distribution = scipy.stats.gaussian_kde(hts_uncZ)"
   ]
  },
  {
   "cell_type": "code",
   "execution_count": 367,
   "id": "abe8f58e",
   "metadata": {},
   "outputs": [
    {
     "data": {
      "text/plain": [
       "3.45013588571242"
      ]
     },
     "execution_count": 367,
     "metadata": {},
     "output_type": "execute_result"
    }
   ],
   "source": [
    "calc_shgo_mode(hts_uncZ,distribution)"
   ]
  },
  {
   "cell_type": "code",
   "execution_count": 356,
   "id": "70b91780",
   "metadata": {},
   "outputs": [
    {
     "data": {
      "text/plain": [
       "5.9703639331273735"
      ]
     },
     "execution_count": 356,
     "metadata": {},
     "output_type": "execute_result"
    }
   ],
   "source": [
    "statistics.mode(hts_uncX)"
   ]
  },
  {
   "cell_type": "code",
   "execution_count": 357,
   "id": "fde6aae5",
   "metadata": {},
   "outputs": [
    {
     "data": {
      "text/plain": [
       "[5.9703639331273735,\n",
       " 2.4530427707359195,\n",
       " 3.294824871001765,\n",
       " 1.6406763489358127,\n",
       " 1.859391629928723,\n",
       " 1.2116003795526922,\n",
       " 1.5619638266507536,\n",
       " 4.673031171783805,\n",
       " 3.618805810343474,\n",
       " 4.961161616491154,\n",
       " 1.8603085284121335,\n",
       " 1.2156044833827764,\n",
       " 2.3089695549570024,\n",
       " 11.122724738204852,\n",
       " 2.031579759437591,\n",
       " 2.676459365990013,\n",
       " 1.5889506824314594,\n",
       " 1.6300604103598744,\n",
       " 1.5414264523424208,\n",
       " 1.1421665092930198,\n",
       " 4.595543816918507,\n",
       " 4.343879543012008,\n",
       " 2.912334111519158,\n",
       " 1.6329866382293403,\n",
       " 1.5004610440228134,\n",
       " 5.537230791756883,\n",
       " 4.118736020987853,\n",
       " 9.022461325163022,\n",
       " 7.946686901152134,\n",
       " 3.050334702944383]"
      ]
     },
     "execution_count": 357,
     "metadata": {},
     "output_type": "execute_result"
    }
   ],
   "source": [
    "hts_uncX"
   ]
  },
  {
   "cell_type": "code",
   "execution_count": 81,
   "id": "647c9210",
   "metadata": {},
   "outputs": [],
   "source": [
    "def calculate_epoch_unix(year,month,day):\n",
    "    epoch_dt = datetime(year,month,day)\n",
    "    epoch_unix = (epoch_dt-datetime(1970, 1, 1, 0, 0, 0)).total_seconds()\n",
    "    return epoch_unix"
   ]
  },
  {
   "cell_type": "code",
   "execution_count": 82,
   "id": "22e31efa",
   "metadata": {},
   "outputs": [
    {
     "data": {
      "text/plain": [
       "1651104000.0"
      ]
     },
     "execution_count": 82,
     "metadata": {},
     "output_type": "execute_result"
    }
   ],
   "source": [
    "calculate_epoch_unix(2022,4,28)"
   ]
  },
  {
   "cell_type": "code",
   "execution_count": 129,
   "id": "30d24506",
   "metadata": {},
   "outputs": [
    {
     "data": {
      "text/plain": [
       "14.75106396366391"
      ]
     },
     "execution_count": 129,
     "metadata": {},
     "output_type": "execute_result"
    }
   ],
   "source": [
    "statistics.mean(hts_uncI)*np.sqrt(len(hts_uncI))"
   ]
  },
  {
   "cell_type": "code",
   "execution_count": 100,
   "id": "9d302e12",
   "metadata": {},
   "outputs": [
    {
     "data": {
      "text/plain": [
       "2.693163493369297"
      ]
     },
     "execution_count": 100,
     "metadata": {},
     "output_type": "execute_result"
    }
   ],
   "source": [
    "statistics.mean(sgf_uncI)"
   ]
  },
  {
   "cell_type": "code",
   "execution_count": 182,
   "id": "1dbdeee4",
   "metadata": {},
   "outputs": [],
   "source": [
    "def error(days_errors):\n",
    "    return abs(statistics.mean(days_errors))+1.96*(statistics.pstdev(days_errors)*np.sqrt(len(days_errors))) "
   ]
  },
  {
   "cell_type": "code",
   "execution_count": 183,
   "id": "1f3632ca",
   "metadata": {},
   "outputs": [
    {
     "data": {
      "text/plain": [
       "58.708904225411914"
      ]
     },
     "execution_count": 183,
     "metadata": {},
     "output_type": "execute_result"
    }
   ],
   "source": [
    "error(hts_uncZ)"
   ]
  },
  {
   "cell_type": "code",
   "execution_count": 184,
   "id": "ec5f5ca7",
   "metadata": {},
   "outputs": [
    {
     "data": {
      "text/plain": [
       "5.035213140890208"
      ]
     },
     "execution_count": 184,
     "metadata": {},
     "output_type": "execute_result"
    }
   ],
   "source": [
    "statistics.pstdev(hts_uncZ)"
   ]
  },
  {
   "cell_type": "code",
   "execution_count": 185,
   "id": "9375d26f",
   "metadata": {},
   "outputs": [
    {
     "data": {
      "text/plain": [
       "27.57899819112005"
      ]
     },
     "execution_count": 185,
     "metadata": {},
     "output_type": "execute_result"
    }
   ],
   "source": [
    "statistics.pstdev(hts_uncZ)*np.sqrt(len(hts_uncZ))"
   ]
  },
  {
   "cell_type": "code",
   "execution_count": 186,
   "id": "bbcbea77",
   "metadata": {},
   "outputs": [],
   "source": [
    "def x_min_mu(distr_list):\n",
    "    X_minus_mu = [np.sqrt(len(distr_list))*(x-np.mean(distr_list)) for x in distr_list]\n",
    "    return statistics.pstdev(X_minus_mu)"
   ]
  },
  {
   "cell_type": "code",
   "execution_count": 187,
   "id": "c128766d",
   "metadata": {},
   "outputs": [
    {
     "data": {
      "text/plain": [
       "27.57899819112005"
      ]
     },
     "execution_count": 187,
     "metadata": {},
     "output_type": "execute_result"
    }
   ],
   "source": [
    "x_min_mu(hts_uncZ)"
   ]
  },
  {
   "cell_type": "code",
   "execution_count": 195,
   "id": "e2e5de4f",
   "metadata": {},
   "outputs": [
    {
     "data": {
      "text/plain": [
       "4.2231160529952225"
      ]
     },
     "execution_count": 195,
     "metadata": {},
     "output_type": "execute_result"
    }
   ],
   "source": [
    "np.mean(sgf_uncX)"
   ]
  },
  {
   "cell_type": "code",
   "execution_count": 198,
   "id": "3751fc4d",
   "metadata": {},
   "outputs": [
    {
     "data": {
      "text/plain": [
       "15.428565662245642"
      ]
     },
     "execution_count": 198,
     "metadata": {},
     "output_type": "execute_result"
    }
   ],
   "source": [
    "np.mean(sgf_uncZ) + 1.96*statistics.pstdev(sgf_uncZ)"
   ]
  },
  {
   "cell_type": "code",
   "execution_count": 201,
   "id": "9077c746",
   "metadata": {},
   "outputs": [],
   "source": [
    "hts_uncX_f = error(hts_uncX)\n",
    "hts_uncY_f = error(hts_uncY)\n",
    "hts_uncZ_f = error(hts_uncZ)"
   ]
  },
  {
   "cell_type": "code",
   "execution_count": 227,
   "id": "8c41583f",
   "metadata": {},
   "outputs": [],
   "source": [
    "\"\"\"Takes epoch date and gives the looks as many days back to find the base date.\"\"\"\n",
    "def base_date(epoch,num_days):\n",
    "    ep_year = epoch[0]\n",
    "    ep_month = epoch[1]\n",
    "    ep_day = epoch[2]\n",
    "    \n",
    "    for i in range(num_days):\n",
    "        ep_year,ep_month,ep_day = previous_day(ep_year,ep_month,ep_day)\n",
    "    \n",
    "    return ep_year,ep_month,ep_day"
   ]
  },
  {
   "cell_type": "code",
   "execution_count": 225,
   "id": "98ef147a",
   "metadata": {},
   "outputs": [],
   "source": [
    "\"\"\"Takes an epoch and returns the previous day. No leap years.\"\"\"\n",
    "def previous_day(year,month,day):\n",
    "    day_list = [int(i) for i in np.linspace(1,31,31)]\n",
    "    month_list = [int(i) for i in np.linspace(1,12,12)]\n",
    "    \n",
    "    if day == 1:\n",
    "        prev_month = np.roll(month_list,+1)[month-1]\n",
    "    else:\n",
    "        prev_month = month\n",
    "    \n",
    "    if prev_month in [1,3,5,7,8,11,12]:\n",
    "        dlist = day_list\n",
    "    if prev_month == 2:\n",
    "        dlist = day_list[0:28]\n",
    "    if prev_month in [4,6,9,10]:\n",
    "        dlist = day_list[0:30]\n",
    "    \n",
    "        \n",
    "    prev_day = np.roll(dlist,+1)[day-1]\n",
    "    prev_year = year\n",
    "    \n",
    "        \n",
    "    if (day == 1 and month == 1):\n",
    "        prev_year = year - 1\n",
    "    else:\n",
    "        prev_year = year\n",
    "    \n",
    "    return prev_year, prev_month, prev_day"
   ]
  },
  {
   "cell_type": "code",
   "execution_count": 226,
   "id": "f19b4734",
   "metadata": {},
   "outputs": [
    {
     "data": {
      "text/plain": [
       "(2021, 12, 31)"
      ]
     },
     "execution_count": 226,
     "metadata": {},
     "output_type": "execute_result"
    }
   ],
   "source": [
    "previous_day(2022,1,1)"
   ]
  },
  {
   "cell_type": "code",
   "execution_count": 230,
   "id": "9f557367",
   "metadata": {},
   "outputs": [
    {
     "data": {
      "text/plain": [
       "(2022, 3, 31)"
      ]
     },
     "execution_count": 230,
     "metadata": {},
     "output_type": "execute_result"
    }
   ],
   "source": [
    "base_date([2022,4,18],18)"
   ]
  },
  {
   "cell_type": "code",
   "execution_count": 306,
   "id": "a10cd12a",
   "metadata": {},
   "outputs": [
    {
     "data": {
      "text/plain": [
       "{'leolabs_id': 'L3226', 'norad_id': 33105, 'object_name': 'JASON 2'}"
      ]
     },
     "execution_count": 306,
     "metadata": {},
     "output_type": "execute_result"
    }
   ],
   "source": [
    "tr.id_data(\"L3226\")"
   ]
  },
  {
   "cell_type": "code",
   "execution_count": 315,
   "id": "f7c30b8f",
   "metadata": {},
   "outputs": [],
   "source": [
    "import random"
   ]
  },
  {
   "cell_type": "code",
   "execution_count": 316,
   "id": "28955a4c",
   "metadata": {},
   "outputs": [],
   "source": [
    "toy_list = [1,2,3,4,5,6,7]"
   ]
  },
  {
   "cell_type": "code",
   "execution_count": 320,
   "id": "aa6ced38",
   "metadata": {},
   "outputs": [
    {
     "data": {
      "text/plain": [
       "[7, 2, 6]"
      ]
     },
     "execution_count": 320,
     "metadata": {},
     "output_type": "execute_result"
    }
   ],
   "source": [
    "random.choices(toy_list,k=3)"
   ]
  },
  {
   "cell_type": "code",
   "execution_count": 321,
   "id": "9f18b50e",
   "metadata": {},
   "outputs": [],
   "source": [
    "toy_list.extend(random.choices(toy_list,k=3))"
   ]
  },
  {
   "cell_type": "code",
   "execution_count": 322,
   "id": "2fda8b15",
   "metadata": {},
   "outputs": [
    {
     "data": {
      "text/plain": [
       "[1, 2, 3, 4, 5, 6, 7, 2, 7, 4]"
      ]
     },
     "execution_count": 322,
     "metadata": {},
     "output_type": "execute_result"
    }
   ],
   "source": [
    "toy_list"
   ]
  },
  {
   "cell_type": "code",
   "execution_count": 323,
   "id": "296cb836",
   "metadata": {},
   "outputs": [],
   "source": [
    "tl1 = [1,2,3]\n",
    "tl2 = [1,2,3,4]\n",
    "tl3 = [1,2,3,4,5]"
   ]
  },
  {
   "cell_type": "code",
   "execution_count": 329,
   "id": "8e0c333d",
   "metadata": {},
   "outputs": [],
   "source": [
    "def length(l):\n",
    "    return len(l)"
   ]
  },
  {
   "cell_type": "code",
   "execution_count": 330,
   "id": "7d618132",
   "metadata": {},
   "outputs": [],
   "source": [
    "tlist = [tl2,tl1,tl3]"
   ]
  },
  {
   "cell_type": "code",
   "execution_count": 336,
   "id": "727e3c3e",
   "metadata": {},
   "outputs": [],
   "source": [
    "stlist = tlist.sort(reverse=True,key=length)"
   ]
  },
  {
   "cell_type": "code",
   "execution_count": 337,
   "id": "6aefb0ce",
   "metadata": {},
   "outputs": [
    {
     "data": {
      "text/plain": [
       "[[1, 2, 3, 4, 5], [1, 2, 3, 4], [1, 2, 3]]"
      ]
     },
     "execution_count": 337,
     "metadata": {},
     "output_type": "execute_result"
    }
   ],
   "source": [
    "tlist"
   ]
  },
  {
   "cell_type": "code",
   "execution_count": 338,
   "id": "f255c687",
   "metadata": {},
   "outputs": [
    {
     "data": {
      "text/plain": [
       "5"
      ]
     },
     "execution_count": 338,
     "metadata": {},
     "output_type": "execute_result"
    }
   ],
   "source": [
    "len(tlist[0])"
   ]
  },
  {
   "cell_type": "code",
   "execution_count": 345,
   "id": "f49d18d7",
   "metadata": {},
   "outputs": [],
   "source": [
    "def list_bootstraping(l,maxlen):\n",
    "    return l.extend(random.choices(l,k=maxlen-len(l)))"
   ]
  },
  {
   "cell_type": "code",
   "execution_count": 347,
   "id": "8e485abe",
   "metadata": {},
   "outputs": [],
   "source": [
    "BSL = list_bootstraping(tl1,5)"
   ]
  },
  {
   "cell_type": "code",
   "execution_count": 384,
   "id": "c130bf5e",
   "metadata": {},
   "outputs": [
    {
     "data": {
      "text/plain": [
       "[1, 2, 3, 1, 2]"
      ]
     },
     "execution_count": 384,
     "metadata": {},
     "output_type": "execute_result"
    }
   ],
   "source": [
    "tl1"
   ]
  },
  {
   "cell_type": "code",
   "execution_count": null,
   "id": "443d1ca4",
   "metadata": {},
   "outputs": [],
   "source": []
  }
 ],
 "metadata": {
  "kernelspec": {
   "display_name": "Python 3 (ipykernel)",
   "language": "python",
   "name": "python3"
  },
  "language_info": {
   "codemirror_mode": {
    "name": "ipython",
    "version": 3
   },
   "file_extension": ".py",
   "mimetype": "text/x-python",
   "name": "python",
   "nbconvert_exporter": "python",
   "pygments_lexer": "ipython3",
   "version": "3.9.13"
  }
 },
 "nbformat": 4,
 "nbformat_minor": 5
}
