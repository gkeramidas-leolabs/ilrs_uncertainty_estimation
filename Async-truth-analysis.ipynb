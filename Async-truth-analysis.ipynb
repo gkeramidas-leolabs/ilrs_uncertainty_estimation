{
 "cells": [
  {
   "cell_type": "code",
   "execution_count": 90,
   "id": "1ed65fa7",
   "metadata": {},
   "outputs": [],
   "source": [
    "import truth_request as tr\n",
    "import truth_analysis as ta\n",
    "\n",
    "from imp import reload\n",
    "\n",
    "from datetime import datetime\n",
    "from datetime import timedelta\n",
    "from dateutil.parser import parse as date_parse\n",
    "\n",
    "import auth\n",
    "import requests\n",
    "import json\n",
    "\n",
    "import datetime as dt\n",
    "\n",
    "import numpy as np\n",
    "\n",
    "import statistics"
   ]
  },
  {
   "cell_type": "code",
   "execution_count": 156,
   "id": "29031f75",
   "metadata": {},
   "outputs": [
    {
     "data": {
      "text/plain": [
       "<module 'truth_analysis' from '/Users/gkeramidas/Projects/leo-backend-od/truth_analysis.py'>"
      ]
     },
     "execution_count": 156,
     "metadata": {},
     "output_type": "execute_result"
    }
   ],
   "source": [
    "reload(ta)"
   ]
  },
  {
   "cell_type": "code",
   "execution_count": 7,
   "id": "bbfeb286",
   "metadata": {},
   "outputs": [],
   "source": [
    "import asyncio"
   ]
  },
  {
   "cell_type": "code",
   "execution_count": 25,
   "id": "c13efa0e",
   "metadata": {},
   "outputs": [],
   "source": [
    "import matplotlib.pyplot as plt\n",
    "import time"
   ]
  },
  {
   "cell_type": "code",
   "execution_count": 16,
   "id": "996f8816",
   "metadata": {},
   "outputs": [],
   "source": [
    "import orekit\n",
    "from orekit.pyhelpers import  setup_orekit_curdir"
   ]
  },
  {
   "cell_type": "code",
   "execution_count": 9,
   "id": "b4d09219",
   "metadata": {},
   "outputs": [],
   "source": [
    "orekit_vm = orekit.initVM()\n",
    "setup_orekit_curdir(\"/Users/gkeramidas/Projects/learning/leolabs-config-data-dynamic/\")"
   ]
  },
  {
   "cell_type": "code",
   "execution_count": 10,
   "id": "29562498",
   "metadata": {},
   "outputs": [],
   "source": [
    "# Inputs\n",
    "ILRS_targets = ['L5011', 'L3059', 'L2486', 'L4884', 'L1471', 'L5429', 'L3972', 'L3969', 'L2669', 'L2682']\n",
    "#ILRS_targets = ['L5011', 'L3059', 'L2486', 'L4884', 'L1471', 'L2669', 'L2682']\n",
    "epoch = [2022,5,15]\n",
    "num_days = 2"
   ]
  },
  {
   "cell_type": "code",
   "execution_count": 94,
   "id": "785237a2",
   "metadata": {},
   "outputs": [],
   "source": [
    "start_time_str, end_time_str = tr.propagation_dates_from_epoch(state_array[0][2])"
   ]
  },
  {
   "cell_type": "code",
   "execution_count": 6,
   "id": "564dad53",
   "metadata": {},
   "outputs": [
    {
     "name": "stdout",
     "output_type": "stream",
     "text": [
      "info Syncing ILRS truth data from S3 (0 files downloaded)\n",
      "info Syncing ILRS truth data from S3 (0 files downloaded)\n",
      "info Syncing ILRS truth data from S3 (0 files downloaded)\n",
      "info Syncing ILRS truth data from S3 (0 files downloaded)\n",
      "info Syncing ILRS truth data from S3 (0 files downloaded)\n",
      "info Syncing ILRS truth data from S3 (0 files downloaded)\n",
      "info Syncing ILRS truth data from S3 (0 files downloaded)\n",
      "info Syncing ILRS truth data from S3 (0 files downloaded)\n",
      "info Syncing ILRS truth data from S3 (0 files downloaded)\n",
      "info Syncing ILRS truth data from S3 (0 files downloaded)\n"
     ]
    }
   ],
   "source": [
    "# Download files\n",
    "tr.dwld_data_for_all_targets(ILRS_targets[:],epoch,num_days)"
   ]
  },
  {
   "cell_type": "code",
   "execution_count": 12,
   "id": "7c7ceef9",
   "metadata": {},
   "outputs": [],
   "source": [
    "state_array = tr.collect_all_states(ILRS_targets, epoch, num_days)"
   ]
  },
  {
   "cell_type": "code",
   "execution_count": 83,
   "id": "6e5bfa7c",
   "metadata": {},
   "outputs": [
    {
     "data": {
      "text/plain": [
       "array(['L5011', '22628731', '2022-05-13T07:55:49.372930Z'], dtype='<U32')"
      ]
     },
     "execution_count": 83,
     "metadata": {},
     "output_type": "execute_result"
    }
   ],
   "source": [
    "state_array[0]"
   ]
  },
  {
   "cell_type": "code",
   "execution_count": 28,
   "id": "72a9e2be",
   "metadata": {
    "scrolled": true
   },
   "outputs": [
    {
     "name": "stdout",
     "output_type": "stream",
     "text": [
      "filenames= ['truth/L5011/stella_cpf_220510_13001.hts', 'truth/L5011/stella_cpf_220511_13101.hts', 'truth/L5011/stella_cpf_220509_12901.hts', 'truth/L5011/stella_cpf_220512_13201.sgf', 'truth/L5011/stella_cpf_220511_13101.dgf', 'truth/L5011/stella_cpf_220509_12901.dgf', 'truth/L5011/stella_cpf_220510_13001.dgf', 'truth/L5011/stella_cpf_220512_13201.hts', 'truth/L5011/stella_cpf_220510_13001.sgf', 'truth/L5011/stella_cpf_220511_13101.sgf', 'truth/L5011/stella_cpf_220509_12901.sgf', 'truth/L5011/stella_cpf_220512_13201.dgf']\n",
      "Epoch timestamp: 2022-05-13 07:55:50\n",
      "info Truth data reader assembled (0.8580660820007324 seconds elapsed)\n",
      "Elapsed time: 10.447848320007324\n"
     ]
    }
   ],
   "source": [
    "start = time.time()\n",
    "ep_of, r_err, i_err, c_err = state_error(state_array[0][0],state_array[0][1],state_array[0][2],plotting=False)\n",
    "end = time.time()\n",
    "print(\"Elapsed time:\", end-start)"
   ]
  },
  {
   "cell_type": "code",
   "execution_count": 60,
   "id": "98dd48dc",
   "metadata": {},
   "outputs": [
    {
     "name": "stdout",
     "output_type": "stream",
     "text": [
      "Elapsed time: 0.3219738006591797\n"
     ]
    }
   ],
   "source": [
    "start = time.time()\n",
    "tr.id_data('L5011')\n",
    "end = time.time()\n",
    "print(\"Elapsed time:\", end-start)"
   ]
  },
  {
   "cell_type": "code",
   "execution_count": 76,
   "id": "2612806f",
   "metadata": {},
   "outputs": [],
   "source": [
    "def request_response(object_url):\n",
    "    request_response = requests.get(object_url,headers=auth.headers)\n",
    "    return request_response"
   ]
  },
  {
   "cell_type": "code",
   "execution_count": 69,
   "id": "b7f46b66",
   "metadata": {},
   "outputs": [],
   "source": [
    "test_object_url = \"\".join([auth.api_url, '/catalog/objects/','L5011'])"
   ]
  },
  {
   "cell_type": "code",
   "execution_count": 70,
   "id": "d8121cc3",
   "metadata": {},
   "outputs": [
    {
     "data": {
      "text/plain": [
       "<Response [200]>"
      ]
     },
     "execution_count": 70,
     "metadata": {},
     "output_type": "execute_result"
    }
   ],
   "source": [
    "id_dict_sync(test_object_url)"
   ]
  },
  {
   "cell_type": "code",
   "execution_count": 130,
   "id": "726e13de",
   "metadata": {},
   "outputs": [],
   "source": [
    "async def async_id_data(leo_id):\n",
    "    object_url = \"\".join([auth.api_url, '/catalog/objects/',leo_id])\n",
    "    object_response = await asyncio.to_thread(request_response,object_url)\n",
    "    leolabs_id = object_response.json()[\"catalogNumber\"] \n",
    "    norad_id = object_response.json()[\"noradCatalogNumber\"]\n",
    "    name = object_response.json()[\"name\"]\n",
    "    \n",
    "    id_dict = {}\n",
    "    id_dict['leolabs_id'] = leolabs_id\n",
    "    id_dict['norad_id'] = norad_id\n",
    "    id_dict['object_name'] = name\n",
    "    return id_dict"
   ]
  },
  {
   "cell_type": "code",
   "execution_count": 78,
   "id": "a8ed0873",
   "metadata": {},
   "outputs": [
    {
     "name": "stdout",
     "output_type": "stream",
     "text": [
      "Elapsed time: 0.4483308792114258\n"
     ]
    }
   ],
   "source": [
    "start = time.time()\n",
    "await async_id_data('L5011')\n",
    "end = time.time()\n",
    "print(\"Elapsed time:\", end-start)"
   ]
  },
  {
   "cell_type": "code",
   "execution_count": 33,
   "id": "b2571471",
   "metadata": {},
   "outputs": [
    {
     "data": {
      "text/plain": [
       "{'leolabs_id': 'L5011', 'norad_id': 22824, 'object_name': 'STELLA'}"
      ]
     },
     "execution_count": 33,
     "metadata": {},
     "output_type": "execute_result"
    }
   ],
   "source": [
    "tr.id_data('L5011')"
   ]
  },
  {
   "cell_type": "code",
   "execution_count": 79,
   "id": "ce9665ef",
   "metadata": {},
   "outputs": [
    {
     "data": {
      "text/plain": [
       "{'leolabs_id': 'L5011', 'norad_id': 22824, 'object_name': 'STELLA'}"
      ]
     },
     "execution_count": 79,
     "metadata": {},
     "output_type": "execute_result"
    }
   ],
   "source": [
    "await async_id_data('L5011')"
   ]
  },
  {
   "cell_type": "code",
   "execution_count": 97,
   "id": "1943e8d9",
   "metadata": {},
   "outputs": [],
   "source": [
    "async def async_propagation_of_state(leo_id, state_id, start_time, end_time, timestep):\n",
    "    \"\"\"Request state propagations between a start date and an end date and with certain timestep.\"\"\"\n",
    "    \n",
    "    propagation_url = \"\".join([auth.api_url, '/catalog/objects/',leo_id,'/states/',state_id,'/propagations?startTime=',start_time,'&endTime=',end_time,'&timestep=',str(timestep)])\n",
    "    \n",
    "    propagation_response = await asyncio.to_thread(request_response,propagation_url)\n",
    "    \n",
    "    return propagation_response.json()[\"propagation\"]"
   ]
  },
  {
   "cell_type": "code",
   "execution_count": 96,
   "id": "cdd00d0d",
   "metadata": {},
   "outputs": [],
   "source": [
    "async def async_RIC_covariance_of_propagations(leo_id, state_id, start_time, end_time, timestep):\n",
    "    \"\"\"Pull the RIC covariances out of the propagations \"\"\" \n",
    "    \n",
    "    prop_with_ric_url = \"\".join([auth.api_url, '/catalog/objects/',leo_id,'/states/',state_id,'/propagations?startTime=',start_time,'&endTime=',end_time,'&timestep=',str(timestep),'&frame=RIC'])\n",
    "    \n",
    "    prop_with_ric_response = await asyncio.to_thread(request_response,prop_with_ric_url)\n",
    "    \n",
    "    return prop_with_ric_response.json()[\"propagation\"]"
   ]
  },
  {
   "cell_type": "code",
   "execution_count": null,
   "id": "574f1dea",
   "metadata": {},
   "outputs": [],
   "source": [
    "await async_RIC_covariance_of_propagations(state_array[0][0],state_array[0][1],start_time_str,end_time_str,150)"
   ]
  },
  {
   "cell_type": "code",
   "execution_count": 132,
   "id": "21c3b84b",
   "metadata": {},
   "outputs": [],
   "source": [
    "async def state_error_bare(object_id,state_id,epoch,timestep = 150):\n",
    "    \n",
    "    # Initializing object\n",
    "    id_data_TO = await async_id_data(object_id) # Id data of a truth object\n",
    "    \n",
    "    start_time_str, end_time_str = tr.propagation_dates_from_epoch(epoch)\n",
    "    \n",
    "    \n",
    "    propagations_ST = await async_propagation_of_state(object_id,state_id,start_time_str,end_time_str,timestep) # propagate the state and collect the propagations\n",
    "    propagations_ST_list = tr.propagations_list(propagations_ST) # put the propagations in a container\n",
    "    ric_covariances_ST = await async_RIC_covariance_of_propagations(object_id,state_id,start_time_str,end_time_str,timestep) # find the covariances of the propagations in the RIC frame\n",
    "    ric_covariances_ST_list = tr.RIC_Covariances_list(ric_covariances_ST) # put the RIC covariances in a container\n",
    "    TO = ta.TruthAnalysis(id_data_TO,propagations_ST_list,ric_covariances_ST_list) # Initialize a Truth Object\n",
    "    return state_id, epoch"
   ]
  },
  {
   "cell_type": "code",
   "execution_count": 131,
   "id": "15571a41",
   "metadata": {},
   "outputs": [],
   "source": [
    "def sync_state_error_bare(object_id,state_id,epoch,timestep = 150):\n",
    "    \n",
    "    # Initializing object\n",
    "    id_data_TO = tr.id_data(object_id) # Id data of a truth object\n",
    "    \n",
    "    start_time_str, end_time_str = tr.propagation_dates_from_epoch(epoch)\n",
    "    \n",
    "    \n",
    "    propagations_ST = tr.propagation_of_state(object_id,state_id,start_time_str,end_time_str,timestep) # propagate the state and collect the propagations\n",
    "    ric_covariances_ST = tr.RIC_covariance_of_propagations(object_id,state_id,start_time_str,end_time_str,timestep) # find the covariances of the propagations in the RIC frame\n",
    "    propagations_ST_list = tr.propagations_list(propagations_ST) # put the propagations in a container\n",
    "    ric_covariances_ST_list = tr.RIC_Covariances_list(ric_covariances_ST) # put the RIC covariances in a container\n",
    "    TO = ta.TruthAnalysis(id_data_TO,propagations_ST_list,ric_covariances_ST_list) # Initialize a Truth Object\n",
    "    return state_id, epoch"
   ]
  },
  {
   "cell_type": "code",
   "execution_count": 134,
   "id": "bc21dc30",
   "metadata": {},
   "outputs": [
    {
     "data": {
      "text/plain": [
       "('22628731', '2022-05-13T07:55:49.372930Z')"
      ]
     },
     "execution_count": 134,
     "metadata": {},
     "output_type": "execute_result"
    }
   ],
   "source": [
    "#start = time.time()\n",
    "await state_error_bare(state_array[0][0],state_array[0][1],state_array[0][2])\n",
    "#end = time.time()\n",
    "#print(\"Elapsed time:\", end-start)"
   ]
  },
  {
   "cell_type": "code",
   "execution_count": 133,
   "id": "d8296fc0",
   "metadata": {},
   "outputs": [
    {
     "data": {
      "text/plain": [
       "('22628731', '2022-05-13T07:55:49.372930Z')"
      ]
     },
     "execution_count": 133,
     "metadata": {},
     "output_type": "execute_result"
    }
   ],
   "source": [
    "#start = time.time()\n",
    "sync_state_error_bare(state_array[0][0],state_array[0][1],state_array[0][2])\n",
    "#end = time.time()\n",
    "#print(\"Elapsed time:\", end-start)"
   ]
  },
  {
   "cell_type": "code",
   "execution_count": 135,
   "id": "403bb57e",
   "metadata": {},
   "outputs": [],
   "source": [
    "#start = time.time()\n",
    "sync_ids = []\n",
    "sync_ep = []\n",
    "for i in range(5):\n",
    "    st_id, ep = sync_state_error_bare(state_array[i][0],state_array[i][1],state_array[i][2])\n",
    "    sync_ids.append(st_id)\n",
    "    sync_ep.append(ep)\n",
    "#end = time.time()\n",
    "#print(\"Elapsed time:\", end-start)"
   ]
  },
  {
   "cell_type": "code",
   "execution_count": 136,
   "id": "beedcc42",
   "metadata": {},
   "outputs": [
    {
     "data": {
      "text/plain": [
       "['22628731', '22626347', '22635548', '22648963', '22649402']"
      ]
     },
     "execution_count": 136,
     "metadata": {},
     "output_type": "execute_result"
    }
   ],
   "source": [
    "sync_ids"
   ]
  },
  {
   "cell_type": "code",
   "execution_count": 137,
   "id": "a12a7c65",
   "metadata": {},
   "outputs": [
    {
     "data": {
      "text/plain": [
       "['2022-05-13T07:55:49.372930Z',\n",
       " '2022-05-13T07:57:07.632930Z',\n",
       " '2022-05-13T12:18:40.303240Z',\n",
       " '2022-05-13T19:17:33.993218Z',\n",
       " '2022-05-13T19:18:56.853654Z']"
      ]
     },
     "execution_count": 137,
     "metadata": {},
     "output_type": "execute_result"
    }
   ],
   "source": [
    "sync_ep"
   ]
  },
  {
   "cell_type": "code",
   "execution_count": 138,
   "id": "814f55b3",
   "metadata": {},
   "outputs": [],
   "source": [
    "#start = time.time()\n",
    "async_res = await asyncio.gather(*[state_error_bare(state_array[i][0],state_array[i][1],state_array[i][2]) for i in range(5)])\n",
    "#end = time.time()\n",
    "#print(\"Elapsed time:\", end-start)"
   ]
  },
  {
   "cell_type": "code",
   "execution_count": 142,
   "id": "f0202813",
   "metadata": {},
   "outputs": [
    {
     "data": {
      "text/plain": [
       "'2022-05-13T07:55:49.372930Z'"
      ]
     },
     "execution_count": 142,
     "metadata": {},
     "output_type": "execute_result"
    }
   ],
   "source": [
    "async_res[0][1]"
   ]
  },
  {
   "cell_type": "code",
   "execution_count": 163,
   "id": "058499e5",
   "metadata": {},
   "outputs": [],
   "source": [
    "async def async_state_requests(object_id,state_id,epoch,timestep = 150):\n",
    "    \n",
    "    # Initializing object\n",
    "    id_data_TO = await async_id_data(object_id) # Id data of a truth object\n",
    "    \n",
    "    start_time_str, end_time_str = tr.propagation_dates_from_epoch(epoch)\n",
    "    \n",
    "    \n",
    "    propagations_ST = await async_propagation_of_state(object_id,state_id,start_time_str,end_time_str,timestep) # propagate the state and collect the propagations\n",
    "    propagations_ST_list = tr.propagations_list(propagations_ST) # put the propagations in a container\n",
    "    ric_covariances_ST = await async_RIC_covariance_of_propagations(object_id,state_id,start_time_str,end_time_str,timestep) # find the covariances of the propagations in the RIC frame\n",
    "    ric_covariances_ST_list = tr.RIC_Covariances_list(ric_covariances_ST) # put the RIC covariances in a container\n",
    "    TO = ta.TruthAnalysis(id_data_TO,propagations_ST_list,ric_covariances_ST_list) # Initialize a Truth Object\n",
    "    return TO"
   ]
  },
  {
   "cell_type": "code",
   "execution_count": 164,
   "id": "6529d21b",
   "metadata": {},
   "outputs": [],
   "source": [
    "def truth_analysis_errors(truth_object):\n",
    "    try: # handling the exception that there are no ILRS truth files to download from S3\n",
    "        norm_errors_dict, dist_list = truth_object.ilrs_truth_analysis() # Run Truth Analysis on the TO\n",
    "        epoch_Offset = tr.extract_epochOffset(norm_errors_dict) # parse epoch Offset\n",
    "        r_err = tr.extract_norm_error(norm_errors_dict,0) # parse position errors\n",
    "        i_err = tr.extract_norm_error(norm_errors_dict,1)\n",
    "        c_err = tr.extract_norm_error(norm_errors_dict,2)\n",
    "\n",
    "        return epoch_Offset, r_err, i_err, c_err\n",
    "    except ValueError:\n",
    "        return None, None, None, None"
   ]
  },
  {
   "cell_type": "code",
   "execution_count": 174,
   "id": "e977eb53",
   "metadata": {},
   "outputs": [
    {
     "name": "stdout",
     "output_type": "stream",
     "text": [
      "Elapsed time: 41.72343683242798\n"
     ]
    }
   ],
   "source": [
    "start = time.time()\n",
    "async_res = await asyncio.gather(*[async_state_requests(state_array[i][0],state_array[i][1],state_array[i][2]) for i in range(state_array.shape[0])])\n",
    "end = time.time()\n",
    "print(\"Elapsed time:\", end-start)"
   ]
  },
  {
   "cell_type": "code",
   "execution_count": 159,
   "id": "4f360d29",
   "metadata": {},
   "outputs": [
    {
     "data": {
      "text/plain": [
       "1153"
      ]
     },
     "execution_count": 159,
     "metadata": {},
     "output_type": "execute_result"
    }
   ],
   "source": [
    "len(async_res[0][1])"
   ]
  },
  {
   "cell_type": "code",
   "execution_count": 161,
   "id": "d487d47b",
   "metadata": {},
   "outputs": [
    {
     "name": "stdout",
     "output_type": "stream",
     "text": [
      "info Truth data reader assembled (1.04646897315979 seconds elapsed)\n",
      "info Truth data reader assembled (0.9338791370391846 seconds elapsed)\n",
      "info Truth data reader assembled (0.9482157230377197 seconds elapsed)\n",
      "info Truth data reader assembled (0.8301348686218262 seconds elapsed)\n",
      "info Truth data reader assembled (0.9892959594726562 seconds elapsed)\n",
      "Elapsed time: 54.53152275085449\n"
     ]
    }
   ],
   "source": [
    "start = time.time()\n",
    "for i in range(5):\n",
    "    tr.state_error(state_array[i][0],state_array[i][1],state_array[i][2])\n",
    "end = time.time()\n",
    "print(\"Elapsed time:\", end-start)"
   ]
  },
  {
   "cell_type": "code",
   "execution_count": 166,
   "id": "bbfbba46",
   "metadata": {},
   "outputs": [],
   "source": [
    "from itertools import zip_longest"
   ]
  },
  {
   "cell_type": "code",
   "execution_count": 179,
   "id": "fc95f804",
   "metadata": {},
   "outputs": [
    {
     "name": "stdout",
     "output_type": "stream",
     "text": [
      "info Truth data reader assembled (1.0208299160003662 seconds elapsed)\n",
      "info Truth data reader assembled (0.8675830364227295 seconds elapsed)\n",
      "info Truth data reader assembled (0.8514323234558105 seconds elapsed)\n",
      "info Truth data reader assembled (0.843317985534668 seconds elapsed)\n",
      "info Truth data reader assembled (0.8519389629364014 seconds elapsed)\n",
      "info Truth data reader assembled (0.6323390007019043 seconds elapsed)\n",
      "info Truth data reader assembled (0.6426999568939209 seconds elapsed)\n",
      "info Truth data reader assembled (0.6339588165283203 seconds elapsed)\n",
      "info Truth data reader assembled (0.6230161190032959 seconds elapsed)\n",
      "info Truth data reader assembled (0.6441409587860107 seconds elapsed)\n",
      "info Truth data reader assembled (0.6313018798828125 seconds elapsed)\n",
      "info Truth data reader assembled (0.6246521472930908 seconds elapsed)\n",
      "info Truth data reader assembled (0.6398239135742188 seconds elapsed)\n",
      "info Truth data reader assembled (0.6364989280700684 seconds elapsed)\n",
      "info Truth data reader assembled (0.6358859539031982 seconds elapsed)\n",
      "info Truth data reader assembled (0.6254348754882812 seconds elapsed)\n",
      "info Truth data reader assembled (0.6321127414703369 seconds elapsed)\n",
      "info Truth data reader assembled (0.4712710380554199 seconds elapsed)\n",
      "info Truth data reader assembled (0.47719311714172363 seconds elapsed)\n",
      "info Truth data reader assembled (0.47351908683776855 seconds elapsed)\n",
      "info Truth data reader assembled (0.47757911682128906 seconds elapsed)\n",
      "info Truth data reader assembled (0.46526408195495605 seconds elapsed)\n",
      "info Truth data reader assembled (0.4774601459503174 seconds elapsed)\n",
      "info Truth data reader assembled (0.4887568950653076 seconds elapsed)\n",
      "info Truth data reader assembled (0.48304224014282227 seconds elapsed)\n",
      "info Truth data reader assembled (0.4736812114715576 seconds elapsed)\n",
      "info Truth data reader assembled (0.4949181079864502 seconds elapsed)\n",
      "info Truth data reader assembled (0.47543787956237793 seconds elapsed)\n",
      "info Truth data reader assembled (0.8719031810760498 seconds elapsed)\n",
      "info Truth data reader assembled (0.8417758941650391 seconds elapsed)\n",
      "info Truth data reader assembled (0.8800652027130127 seconds elapsed)\n",
      "info Truth data reader assembled (0.6325502395629883 seconds elapsed)\n",
      "info Truth data reader assembled (0.6441428661346436 seconds elapsed)\n",
      "info Truth data reader assembled (0.6628530025482178 seconds elapsed)\n",
      "info Truth data reader assembled (0.6373980045318604 seconds elapsed)\n",
      "info Truth data reader assembled (0.6437959671020508 seconds elapsed)\n",
      "info Truth data reader assembled (0.6279370784759521 seconds elapsed)\n",
      "info Truth data reader assembled (0.5856330394744873 seconds elapsed)\n",
      "info Truth data reader assembled (0.31940698623657227 seconds elapsed)\n",
      "info Truth data reader assembled (0.3131067752838135 seconds elapsed)\n",
      "info Truth data reader assembled (0.3177461624145508 seconds elapsed)\n",
      "info Truth data reader assembled (0.31224918365478516 seconds elapsed)\n",
      "info Truth data reader assembled (0.35425305366516113 seconds elapsed)\n",
      "info Truth data reader assembled (0.3120229244232178 seconds elapsed)\n",
      "info Truth data reader assembled (0.3077569007873535 seconds elapsed)\n",
      "info Truth data reader assembled (0.30855512619018555 seconds elapsed)\n",
      "info Truth data reader assembled (0.31376194953918457 seconds elapsed)\n",
      "info Truth data reader assembled (0.23643207550048828 seconds elapsed)\n",
      "info Truth data reader assembled (0.2549870014190674 seconds elapsed)\n",
      "info Truth data reader assembled (0.2266099452972412 seconds elapsed)\n",
      "info Truth data reader assembled (0.23062992095947266 seconds elapsed)\n",
      "info Truth data reader assembled (0.2315080165863037 seconds elapsed)\n",
      "info Truth data reader assembled (0.22535204887390137 seconds elapsed)\n",
      "info Truth data reader assembled (0.23877906799316406 seconds elapsed)\n",
      "info Truth data reader assembled (0.3856220245361328 seconds elapsed)\n",
      "info Truth data reader assembled (0.3914358615875244 seconds elapsed)\n",
      "info Truth data reader assembled (0.38555097579956055 seconds elapsed)\n",
      "info Truth data reader assembled (0.39865803718566895 seconds elapsed)\n",
      "info Truth data reader assembled (0.4297940731048584 seconds elapsed)\n",
      "info Truth data reader assembled (0.3882880210876465 seconds elapsed)\n",
      "info Truth data reader assembled (0.3821711540222168 seconds elapsed)\n",
      "info Truth data reader assembled (0.39249086380004883 seconds elapsed)\n",
      "info Truth data reader assembled (0.38864707946777344 seconds elapsed)\n",
      "info Truth data reader assembled (0.39542722702026367 seconds elapsed)\n",
      "info Truth data reader assembled (0.2868320941925049 seconds elapsed)\n",
      "info Truth data reader assembled (0.2896921634674072 seconds elapsed)\n",
      "info Truth data reader assembled (0.2896740436553955 seconds elapsed)\n",
      "info Truth data reader assembled (0.2945389747619629 seconds elapsed)\n",
      "info Truth data reader assembled (0.2869839668273926 seconds elapsed)\n",
      "info Truth data reader assembled (0.30570316314697266 seconds elapsed)\n",
      "info Truth data reader assembled (0.2943451404571533 seconds elapsed)\n",
      "info Truth data reader assembled (0.2885129451751709 seconds elapsed)\n",
      "info Truth data reader assembled (0.2905149459838867 seconds elapsed)\n",
      "info Truth data reader assembled (0.29489994049072266 seconds elapsed)\n",
      "info Truth data reader assembled (0.3905069828033447 seconds elapsed)\n",
      "info Truth data reader assembled (0.38204312324523926 seconds elapsed)\n",
      "info Truth data reader assembled (0.3824770450592041 seconds elapsed)\n",
      "info Truth data reader assembled (0.3881192207336426 seconds elapsed)\n",
      "info Truth data reader assembled (0.3845798969268799 seconds elapsed)\n",
      "info Truth data reader assembled (0.38938117027282715 seconds elapsed)\n",
      "info Truth data reader assembled (0.28937792778015137 seconds elapsed)\n",
      "info Truth data reader assembled (0.28070974349975586 seconds elapsed)\n",
      "info Truth data reader assembled (0.2886238098144531 seconds elapsed)\n",
      "info Truth data reader assembled (0.2841918468475342 seconds elapsed)\n",
      "info Truth data reader assembled (0.28949499130249023 seconds elapsed)\n",
      "info Truth data reader assembled (0.2900049686431885 seconds elapsed)\n",
      "info Truth data reader assembled (0.398529052734375 seconds elapsed)\n",
      "info Truth data reader assembled (0.3761751651763916 seconds elapsed)\n",
      "info Truth data reader assembled (0.29397106170654297 seconds elapsed)\n",
      "info Truth data reader assembled (0.2822568416595459 seconds elapsed)\n",
      "info Truth data reader assembled (0.28580498695373535 seconds elapsed)\n",
      "info Truth data reader assembled (0.2885758876800537 seconds elapsed)\n",
      "info Truth data reader assembled (0.2985100746154785 seconds elapsed)\n",
      "info Truth data reader assembled (0.2920811176300049 seconds elapsed)\n",
      "info Truth data reader assembled (0.39517879486083984 seconds elapsed)\n",
      "info Truth data reader assembled (0.382627010345459 seconds elapsed)\n",
      "info Truth data reader assembled (0.3942279815673828 seconds elapsed)\n",
      "info Truth data reader assembled (0.38107800483703613 seconds elapsed)\n",
      "info Truth data reader assembled (0.3975820541381836 seconds elapsed)\n",
      "info Truth data reader assembled (0.28545212745666504 seconds elapsed)\n",
      "info Truth data reader assembled (0.2948167324066162 seconds elapsed)\n",
      "info Truth data reader assembled (0.2977406978607178 seconds elapsed)\n",
      "info Truth data reader assembled (0.28850603103637695 seconds elapsed)\n",
      "info Truth data reader assembled (0.28668999671936035 seconds elapsed)\n",
      "info Truth data reader assembled (0.28771471977233887 seconds elapsed)\n",
      "info Truth data reader assembled (0.29140782356262207 seconds elapsed)\n",
      "info Truth data reader assembled (0.29010510444641113 seconds elapsed)\n",
      "info Truth data reader assembled (0.28356313705444336 seconds elapsed)\n",
      "info Truth data reader assembled (0.29447293281555176 seconds elapsed)\n",
      "info Truth data reader assembled (0.2983059883117676 seconds elapsed)\n",
      "info Truth data reader assembled (0.894110918045044 seconds elapsed)\n",
      "info Truth data reader assembled (0.874690055847168 seconds elapsed)\n",
      "info Truth data reader assembled (0.8620531558990479 seconds elapsed)\n",
      "info Truth data reader assembled (0.8566830158233643 seconds elapsed)\n",
      "info Truth data reader assembled (0.874176025390625 seconds elapsed)\n",
      "info Truth data reader assembled (0.84250807762146 seconds elapsed)\n",
      "info Truth data reader assembled (0.629439115524292 seconds elapsed)\n"
     ]
    },
    {
     "name": "stdout",
     "output_type": "stream",
     "text": [
      "info Truth data reader assembled (0.6402440071105957 seconds elapsed)\n",
      "info Truth data reader assembled (0.6488189697265625 seconds elapsed)\n",
      "info Truth data reader assembled (0.6421351432800293 seconds elapsed)\n",
      "info Truth data reader assembled (0.6241769790649414 seconds elapsed)\n",
      "Elapsed time: 722.4639101028442\n"
     ]
    }
   ],
   "source": [
    "start = time.time()\n",
    "r_err_list = []\n",
    "i_err_list = []\n",
    "c_err_list = []\n",
    "Ep_Offset_list = []\n",
    "\n",
    "TOS = await asyncio.gather(*[async_state_requests(state_array[i][0],state_array[i][1],state_array[i][2]) for i in range(state_array.shape[0])])\n",
    "\n",
    "for i in range(len(TOS)):\n",
    "    epoch_Offset, r_err, i_err, c_err = truth_analysis_errors(TOS[i])\n",
    "    \n",
    "    if (r_err is not None):\n",
    "            Ep_Offset_list.append(epoch_Offset)\n",
    "            r_err_list.append(r_err)\n",
    "            i_err_list.append(i_err)\n",
    "            c_err_list.append(c_err)\n",
    "\n",
    "    else: \n",
    "        pass   \n",
    "    # convert the lists of errors with len = number_of_time_steps to lists of lists of the same length \n",
    "    # but each entry is a list with all the errors of that time step.\n",
    "    r_err_collection = list(zip_longest(*r_err_list)) \n",
    "    i_err_collection = list(zip_longest(*i_err_list))\n",
    "    c_err_collection = list(zip_longest(*c_err_list))\n",
    "end = time.time()\n",
    "print(\"Elapsed time:\", end-start)"
   ]
  },
  {
   "cell_type": "code",
   "execution_count": 180,
   "id": "13012c48",
   "metadata": {},
   "outputs": [
    {
     "data": {
      "image/png": "[encoded data removed]",
      "text/plain": [
       "<Figure size 432x288 with 1 Axes>"
      ]
     },
     "metadata": {
      "needs_background": "light"
     },
     "output_type": "display_data"
    }
   ],
   "source": [
    "r_std = tr.extract_std_from_error_distributions(r_err_collection)\n",
    "i_std = tr.extract_std_from_error_distributions(i_err_collection)\n",
    "c_std = tr.extract_std_from_error_distributions(c_err_collection)\n",
    "\n",
    "plt.plot(Ep_Offset_list[0],r_std,\"g\",label=\"radial\")\n",
    "plt.plot(Ep_Offset_list[0],c_std,\"b\",label=\"cross-track\")\n",
    "plt.plot(Ep_Offset_list[0],i_std,\"r\",label=\"in-track\")\n",
    "plt.xlabel(\"Seconds from estimation Epoch\")\n",
    "plt.ylabel(\"Stdev\")\n",
    "plt.legend()\n",
    "plt.show()"
   ]
  },
  {
   "cell_type": "code",
   "execution_count": null,
   "id": "4a21cd66",
   "metadata": {},
   "outputs": [],
   "source": []
  }
 ],
 "metadata": {
  "kernelspec": {
   "display_name": "Python 3 (ipykernel)",
   "language": "python",
   "name": "python3"
  },
  "language_info": {
   "codemirror_mode": {
    "name": "ipython",
    "version": 3
   },
   "file_extension": ".py",
   "mimetype": "text/x-python",
   "name": "python",
   "nbconvert_exporter": "python",
   "pygments_lexer": "ipython3",
   "version": "3.9.13"
  }
 },
 "nbformat": 4,
 "nbformat_minor": 5
}
